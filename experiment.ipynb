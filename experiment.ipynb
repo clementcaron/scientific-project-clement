{
 "cells": [
  {
   "cell_type": "markdown",
   "id": "f6014f28",
   "metadata": {},
   "source": [
    "# LLM Reasoning Framework Comparison Project\n",
    "\n",
    "## 🎯 Project Overview\n",
    "\n",
    "This project compares three popular reasoning frameworks for Large Language Models (LLMs) across different task types:\n",
    "\n",
    "### **Reasoning Frameworks**\n",
    "1. **ReAct** (Reasoning + Acting) - Interleaves reasoning and action steps\n",
    "2. **Chain-of-Thought (CoT)** - Sequential step-by-step reasoning\n",
    "3. **Tree-of-Thoughts (ToT)** - Explores multiple reasoning paths in parallel\n",
    "\n",
    "### **Task Types & Examples**\n",
    "1. **Code Generation** - Conway's Game of Life implementation\n",
    "2. **Itinerary Planning** - 7-day European tour (London → Paris → Amsterdam → Berlin)\n",
    "3. **Procedure Structuring** - Software deployment process\n",
    "\n",
    "### **Evaluation Methodology**\n",
    "- **3 runs per framework per task** = 27 total experiments\n",
    "- **Reference-based scoring** using gold standard \"best\" outputs\n",
    "- **Discriminative validation** with 70+ point threshold for passing\n",
    "- **Multi-dimensional scoring** across structure, completeness, and sophistication\n",
    "\n",
    "### **Key Metrics**\n",
    "- ✅ **Validation Score** (0-100) - Quality against reference standards\n",
    "- ⏱️ **Execution Time** - Framework processing speed\n",
    "- 🔤 **Token Usage** - LLM resource consumption\n",
    "- 🧠 **Reasoning Steps** - Complexity of thought process\n",
    "- 📊 **Success Rate** - Percentage of valid outputs"
   ]
  },
  {
   "cell_type": "markdown",
   "id": "90d6ed6a",
   "metadata": {},
   "source": [
    "## Setup and Configuration\n",
    "\n",
    "## 📊 Data Analysis Setup\n",
    "\n",
    "### Quick Start Guide\n",
    "1. **Run Experiments**: `python run_experiment.py --quick --no-limit`\n",
    "2. **Load Results**: Execute the cells below to analyze data\n",
    "3. **Generate Visualizations**: Interactive charts and comparisons\n",
    "\n",
    "### Data Files Used\n",
    "- `results/experiment_results.json` - Complete raw data\n",
    "- `results/experiment_summary.csv` - Tabular summary for analysis\n",
    "- `results/llm_responses.txt` - Human-readable LLM outputs\n",
    "\n",
    "*This notebook focuses purely on data visualization and interactive analysis.*"
   ]
  },
  {
   "cell_type": "code",
   "execution_count": 1,
   "id": "61342aba",
   "metadata": {},
   "outputs": [
    {
     "name": "stdout",
     "output_type": "stream",
     "text": [
      "💡 To run experiments manually, use:\n",
      "   python run_experiment.py --quick --no-limit\n",
      "\n",
      "📁 Expected output files:\n",
      "   • results/experiment_summary.csv\n",
      "   • results/experiment_results.json\n",
      "   • results/llm_responses.txt\n"
     ]
    }
   ],
   "source": [
    "# Run Experiments (if needed)\n",
    "# Uncomment and run this cell if you haven't run experiments yet\n",
    "\n",
    "# import subprocess\n",
    "# import os\n",
    "\n",
    "# print(\"🚀 Running LLM Framework Experiments...\")\n",
    "# print(\"⏳ This will take approximately 5-10 minutes...\")\n",
    "# print(\"=\" * 50)\n",
    "\n",
    "# try:\n",
    "#     result = subprocess.run([\n",
    "#         'python', 'run_experiment.py', '--quick', '--no-limit'\n",
    "#     ], capture_output=True, text=True, cwd=os.getcwd())\n",
    "#     \n",
    "#     if result.returncode == 0:\n",
    "#         print(\"✅ Experiments completed successfully!\")\n",
    "#         print(result.stdout)\n",
    "#     else:\n",
    "#         print(\"❌ Error running experiments:\")\n",
    "#         print(result.stderr)\n",
    "# except Exception as e:\n",
    "#     print(f\"❌ Failed to run experiments: {e}\")\n",
    "#     print(\"💡 Run manually: python run_experiment.py --quick --no-limit\")\n",
    "\n",
    "print(\"💡 To run experiments manually, use:\")\n",
    "print(\"   python run_experiment.py --quick --no-limit\")\n",
    "print(\"\\n📁 Expected output files:\")\n",
    "print(\"   • results/experiment_summary.csv\")\n",
    "print(\"   • results/experiment_results.json\") \n",
    "print(\"   • results/llm_responses.txt\")"
   ]
  },
  {
   "cell_type": "code",
   "execution_count": 2,
   "id": "a9d02a0a",
   "metadata": {},
   "outputs": [
    {
     "name": "stdout",
     "output_type": "stream",
     "text": [
      "✅ Environment loaded\n",
      "📦 All libraries imported successfully!\n",
      "📁 Ready to analyze LLM reasoning framework data\n"
     ]
    }
   ],
   "source": [
    "# Essential imports\n",
    "import os\n",
    "import json\n",
    "import pandas as pd\n",
    "import numpy as np\n",
    "import matplotlib.pyplot as plt\n",
    "import seaborn as sns\n",
    "import plotly.express as px\n",
    "import plotly.graph_objects as go\n",
    "from plotly.subplots import make_subplots\n",
    "from datetime import datetime\n",
    "from pathlib import Path\n",
    "from dotenv import load_dotenv\n",
    "import warnings\n",
    "import re\n",
    "from typing import Dict, List\n",
    "\n",
    "# Project imports\n",
    "import sys\n",
    "sys.path.append('.')\n",
    "from agents import AgentFactory\n",
    "from tasks import TaskGenerator, TaskValidator\n",
    "from utils import LLMManager, ExperimentResult\n",
    "\n",
    "# Suppress warnings\n",
    "warnings.filterwarnings('ignore')\n",
    "\n",
    "# Set plotting style\n",
    "plt.style.use('default')\n",
    "sns.set_palette(\"husl\")\n",
    "\n",
    "# Initialize variables to avoid NameError\n",
    "df = None\n",
    "raw_data = None\n",
    "\n",
    "load_dotenv()\n",
    "\n",
    "print(\"✅ Environment loaded\")\n",
    "print(\"📦 All libraries imported successfully!\")\n",
    "print(\"📁 Ready to analyze LLM reasoning framework data\")"
   ]
  },
  {
   "cell_type": "code",
   "execution_count": 13,
   "id": "8f03f08f",
   "metadata": {},
   "outputs": [
    {
     "name": "stdout",
     "output_type": "stream",
     "text": [
      "🎨 CUSTOM COLOR SCHEME CONFIGURED\n",
      "===================================\n",
      "   REACT: #edae49\n",
      "   COT: #d1495b\n",
      "   TOT: #00798c\n",
      "\n",
      "✅ Colors applied to all visualizations!\n"
     ]
    }
   ],
   "source": [
    "# Color Configuration for Framework Visualizations\n",
    "# Custom color scheme for consistent framework representation\n",
    "FRAMEWORK_COLORS = {\n",
    "    'react': '#edae49',    # Yellow/Gold\n",
    "    'cot': '#d1495b',      # Red/Pink  \n",
    "    'tot': '#00798c'       # Teal/Blue-green\n",
    "}\n",
    "\n",
    "# Create color lists for different plot types\n",
    "def get_framework_colors(frameworks):\n",
    "    \"\"\"Get colors for a list of frameworks in order.\"\"\"\n",
    "    return [FRAMEWORK_COLORS.get(fw, '#888888') for fw in frameworks]\n",
    "\n",
    "def get_color_discrete_map(frameworks):\n",
    "    \"\"\"Get color mapping for plotly discrete color mapping.\"\"\"\n",
    "    return {fw: FRAMEWORK_COLORS.get(fw, '#888888') for fw in frameworks}\n",
    "\n",
    "# Set matplotlib color cycle to match our scheme\n",
    "framework_order = ['react', 'cot', 'tot']  # Standard order\n",
    "color_sequence = [FRAMEWORK_COLORS[fw] for fw in framework_order]\n",
    "plt.rcParams['axes.prop_cycle'] = plt.cycler(color=color_sequence)\n",
    "\n",
    "print(\"🎨 CUSTOM COLOR SCHEME CONFIGURED\")\n",
    "print(\"=\" * 35)\n",
    "for fw, color in FRAMEWORK_COLORS.items():\n",
    "    print(f\"   {fw.upper()}: {color}\")\n",
    "print(f\"\\n✅ Colors applied to all visualizations!\")"
   ]
  },
  {
   "cell_type": "code",
   "execution_count": 3,
   "id": "8cca130e",
   "metadata": {},
   "outputs": [
    {
     "name": "stdout",
     "output_type": "stream",
     "text": [
      "API Configuration:\n",
      "  Google: ✅\n",
      "\n",
      "Model: gemini-2.0-flash-lite\n",
      "Demo Mode: ON\n",
      "🔍 LOADING EXPERIMENT DATA\n",
      "==============================\n",
      "✅ Loaded 27 experiment records from CSV\n",
      "✅ Loaded detailed JSON data with 27 records\n",
      "\n",
      "📊 Dataset Overview:\n",
      "   • Frameworks: react, cot, tot\n",
      "   • Task Types: code_generation, itinerary_planning, procedure_structuring\n",
      "   • Task IDs: code_001, itin_001, proc_001\n",
      "   • Total Runs: 27\n",
      "   • Success Rate: 92.6%\n",
      "   • Avg Score: 82.4/100\n",
      "\n",
      "📋 Sample Data:\n"
     ]
    },
    {
     "data": {
      "text/html": [
       "<div>\n",
       "<style scoped>\n",
       "    .dataframe tbody tr th:only-of-type {\n",
       "        vertical-align: middle;\n",
       "    }\n",
       "\n",
       "    .dataframe tbody tr th {\n",
       "        vertical-align: top;\n",
       "    }\n",
       "\n",
       "    .dataframe thead th {\n",
       "        text-align: right;\n",
       "    }\n",
       "</style>\n",
       "<table border=\"1\" class=\"dataframe\">\n",
       "  <thead>\n",
       "    <tr style=\"text-align: right;\">\n",
       "      <th></th>\n",
       "      <th>timestamp</th>\n",
       "      <th>framework</th>\n",
       "      <th>task_id</th>\n",
       "      <th>task_type</th>\n",
       "      <th>run_number</th>\n",
       "      <th>success</th>\n",
       "      <th>tokens_used</th>\n",
       "      <th>execution_time</th>\n",
       "      <th>memory_usage</th>\n",
       "      <th>reasoning_steps</th>\n",
       "      <th>final_answer</th>\n",
       "      <th>validation_score</th>\n",
       "      <th>validation_passed</th>\n",
       "      <th>error_message</th>\n",
       "    </tr>\n",
       "  </thead>\n",
       "  <tbody>\n",
       "    <tr>\n",
       "      <th>0</th>\n",
       "      <td>2025-06-26T15:43:30.053845</td>\n",
       "      <td>react</td>\n",
       "      <td>code_001</td>\n",
       "      <td>code_generation</td>\n",
       "      <td>1</td>\n",
       "      <td>True</td>\n",
       "      <td>2987</td>\n",
       "      <td>16.373588</td>\n",
       "      <td>2.152344</td>\n",
       "      <td>6</td>\n",
       "      <td>```python\\nclass Grid:\\n    def __init__(self,...</td>\n",
       "      <td>90.0</td>\n",
       "      <td>True</td>\n",
       "      <td>NaN</td>\n",
       "    </tr>\n",
       "    <tr>\n",
       "      <th>1</th>\n",
       "      <td>2025-06-26T15:43:54.081603</td>\n",
       "      <td>react</td>\n",
       "      <td>code_001</td>\n",
       "      <td>code_generation</td>\n",
       "      <td>2</td>\n",
       "      <td>True</td>\n",
       "      <td>1952</td>\n",
       "      <td>10.370221</td>\n",
       "      <td>0.023438</td>\n",
       "      <td>3</td>\n",
       "      <td>```python\\nclass Grid:\\n    def __init__(self,...</td>\n",
       "      <td>80.0</td>\n",
       "      <td>True</td>\n",
       "      <td>NaN</td>\n",
       "    </tr>\n",
       "    <tr>\n",
       "      <th>2</th>\n",
       "      <td>2025-06-26T15:44:14.466401</td>\n",
       "      <td>react</td>\n",
       "      <td>code_001</td>\n",
       "      <td>code_generation</td>\n",
       "      <td>3</td>\n",
       "      <td>True</td>\n",
       "      <td>2159</td>\n",
       "      <td>9.101258</td>\n",
       "      <td>0.160156</td>\n",
       "      <td>4</td>\n",
       "      <td>```python\\nimport time\\n\\nclass Grid:\\n    def...</td>\n",
       "      <td>90.0</td>\n",
       "      <td>True</td>\n",
       "      <td>NaN</td>\n",
       "    </tr>\n",
       "    <tr>\n",
       "      <th>3</th>\n",
       "      <td>2025-06-26T15:45:23.043995</td>\n",
       "      <td>cot</td>\n",
       "      <td>code_001</td>\n",
       "      <td>code_generation</td>\n",
       "      <td>1</td>\n",
       "      <td>True</td>\n",
       "      <td>2065</td>\n",
       "      <td>9.696908</td>\n",
       "      <td>0.164062</td>\n",
       "      <td>6</td>\n",
       "      <td>```python\\nclass Grid:\\n    def __init__(self,...</td>\n",
       "      <td>90.0</td>\n",
       "      <td>True</td>\n",
       "      <td>NaN</td>\n",
       "    </tr>\n",
       "    <tr>\n",
       "      <th>4</th>\n",
       "      <td>2025-06-26T15:45:43.302770</td>\n",
       "      <td>cot</td>\n",
       "      <td>code_001</td>\n",
       "      <td>code_generation</td>\n",
       "      <td>2</td>\n",
       "      <td>True</td>\n",
       "      <td>2468</td>\n",
       "      <td>10.435209</td>\n",
       "      <td>0.089844</td>\n",
       "      <td>7</td>\n",
       "      <td>```python\\nclass Grid:\\n    def __init__(self,...</td>\n",
       "      <td>90.0</td>\n",
       "      <td>True</td>\n",
       "      <td>NaN</td>\n",
       "    </tr>\n",
       "  </tbody>\n",
       "</table>\n",
       "</div>"
      ],
      "text/plain": [
       "                    timestamp framework   task_id        task_type  \\\n",
       "0  2025-06-26T15:43:30.053845     react  code_001  code_generation   \n",
       "1  2025-06-26T15:43:54.081603     react  code_001  code_generation   \n",
       "2  2025-06-26T15:44:14.466401     react  code_001  code_generation   \n",
       "3  2025-06-26T15:45:23.043995       cot  code_001  code_generation   \n",
       "4  2025-06-26T15:45:43.302770       cot  code_001  code_generation   \n",
       "\n",
       "   run_number  success  tokens_used  execution_time  memory_usage  \\\n",
       "0           1     True         2987       16.373588      2.152344   \n",
       "1           2     True         1952       10.370221      0.023438   \n",
       "2           3     True         2159        9.101258      0.160156   \n",
       "3           1     True         2065        9.696908      0.164062   \n",
       "4           2     True         2468       10.435209      0.089844   \n",
       "\n",
       "   reasoning_steps                                       final_answer  \\\n",
       "0                6  ```python\\nclass Grid:\\n    def __init__(self,...   \n",
       "1                3  ```python\\nclass Grid:\\n    def __init__(self,...   \n",
       "2                4  ```python\\nimport time\\n\\nclass Grid:\\n    def...   \n",
       "3                6  ```python\\nclass Grid:\\n    def __init__(self,...   \n",
       "4                7  ```python\\nclass Grid:\\n    def __init__(self,...   \n",
       "\n",
       "   validation_score  validation_passed  error_message  \n",
       "0              90.0               True            NaN  \n",
       "1              80.0               True            NaN  \n",
       "2              90.0               True            NaN  \n",
       "3              90.0               True            NaN  \n",
       "4              90.0               True            NaN  "
      ]
     },
     "metadata": {},
     "output_type": "display_data"
    }
   ],
   "source": [
    "import os\n",
    "import pandas as pd\n",
    "import json\n",
    "from pathlib import Path\n",
    "\n",
    "# Check API configuration\n",
    "api_status = {\n",
    "    'Google': '✅' if os.getenv('GOOGLE_API_KEY') and not os.getenv('GOOGLE_API_KEY').startswith('your_') else '❌'\n",
    "}\n",
    "\n",
    "print(\"API Configuration:\")\n",
    "for provider, status in api_status.items():\n",
    "    print(f\"  {provider}: {status}\")\n",
    "\n",
    "# Configuration\n",
    "MODEL = os.getenv('DEFAULT_MODEL')\n",
    "DEMO_MODE = True  # Set to False for real API calls\n",
    "\n",
    "print(f\"\\nModel: {MODEL}\")\n",
    "print(f\"Demo Mode: {'ON' if DEMO_MODE else 'OFF'}\")\n",
    "\n",
    "# Load Experiment Data\n",
    "\n",
    "# Check if results exist\n",
    "results_dir = Path(\"results\")\n",
    "csv_file = results_dir / \"experiment_summary.csv\"\n",
    "json_file = results_dir / \"experiment_results.json\"\n",
    "\n",
    "print(\"🔍 LOADING EXPERIMENT DATA\")\n",
    "print(\"=\" * 30)\n",
    "\n",
    "if csv_file.exists():\n",
    "    # Load CSV data for analysis\n",
    "    df = pd.read_csv(csv_file)\n",
    "    print(f\"✅ Loaded {len(df)} experiment records from CSV\")\n",
    "    \n",
    "    # Load JSON for detailed analysis\n",
    "    if json_file.exists():\n",
    "        with open(json_file, 'r') as f:\n",
    "            raw_data = json.load(f)\n",
    "        print(f\"✅ Loaded detailed JSON data with {len(raw_data)} records\")\n",
    "    else:\n",
    "        raw_data = None\n",
    "        print(\"⚠️ JSON file not found - limited analysis available\")\n",
    "    \n",
    "    # Data overview\n",
    "    print(f\"\\n📊 Dataset Overview:\")\n",
    "    print(f\"   • Frameworks: {', '.join(df['framework'].unique())}\")\n",
    "    print(f\"   • Task Types: {', '.join(df['task_type'].unique())}\")\n",
    "    print(f\"   • Task IDs: {', '.join(df['task_id'].unique())}\")\n",
    "    print(f\"   • Total Runs: {len(df)}\")\n",
    "    print(f\"   • Success Rate: {df['validation_passed'].mean():.1%}\")\n",
    "    print(f\"   • Avg Score: {df['validation_score'].mean():.1f}/100\")\n",
    "    \n",
    "    # Display first few rows\n",
    "    print(f\"\\n📋 Sample Data:\")\n",
    "    display(df.head())\n",
    "    \n",
    "else:\n",
    "    print(\"❌ No experiment results found!\")\n",
    "    print(\"🚀 Run experiments first: python run_experiment.py --quick --no-limit\")\n",
    "    print(\"\\n📁 Expected files:\")\n",
    "    print(\"   • results/experiment_summary.csv\")\n",
    "    print(\"   • results/experiment_results.json\") \n",
    "    print(\"   • results/llm_responses.txt\")\n",
    "    df = None\n",
    "    raw_data = None"
   ]
  },
  {
   "cell_type": "markdown",
   "id": "902f73f8",
   "metadata": {},
   "source": [
    "## Task Definitions\n",
    "\n",
    "Three carefully selected tasks representing different cognitive demands:\n",
    "\n",
    "## 📈 Statistical Analysis & Performance Metrics\n",
    "\n",
    "Comprehensive analysis of framework performance across all dimensions."
   ]
  },
  {
   "cell_type": "code",
   "execution_count": 4,
   "id": "e3a178a2",
   "metadata": {},
   "outputs": [
    {
     "name": "stdout",
     "output_type": "stream",
     "text": [
      "🔍 PERFORMANCE ANALYSIS BY FRAMEWORK\n",
      "============================================================\n",
      "\n",
      "🧠 REACT Framework:\n",
      "   Validation Score: 70.4 ± 38.3\n",
      "   Success Rate: 77.8% (7/9)\n",
      "   Avg Execution Time: 10.90s\n",
      "   Avg Tokens Used: 2039\n",
      "   Avg Reasoning Steps: 6.4\n",
      "\n",
      "🧠 COT Framework:\n",
      "   Validation Score: 88.7 ± 4.4\n",
      "   Success Rate: 100.0% (9/9)\n",
      "   Avg Execution Time: 16.19s\n",
      "   Avg Tokens Used: 2946\n",
      "   Avg Reasoning Steps: 2.9\n",
      "\n",
      "🧠 TOT Framework:\n",
      "   Validation Score: 88.2 ± 5.0\n",
      "   Success Rate: 100.0% (9/9)\n",
      "   Avg Execution Time: 10.64s\n",
      "   Avg Tokens Used: 2172\n",
      "   Avg Reasoning Steps: 15.3\n",
      "\n",
      "📋 PERFORMANCE BY TASK TYPE\n",
      "========================================\n",
      "\n",
      "📝 Code Generation:\n",
      "   Best Framework: tot\n",
      "   Highest Score: 95.0\n",
      "   Success Rate: 100.0%\n",
      "   Framework Ranking: tot(91.7) > cot(90.0) > react(86.7)\n",
      "\n",
      "📝 Itinerary Planning:\n",
      "   Best Framework: react\n",
      "   Highest Score: 93.0\n",
      "   Success Rate: 100.0%\n",
      "   Framework Ranking: cot(93.0) > react(93.0) > tot(88.7)\n",
      "\n",
      "📝 Procedure Structuring:\n",
      "   Best Framework: tot\n",
      "   Highest Score: 90.0\n",
      "   Success Rate: 77.8%\n",
      "   Framework Ranking: tot(84.3) > cot(83.0) > react(31.5)\n"
     ]
    }
   ],
   "source": [
    "# Statistical Summary by Framework\n",
    "if df is not None:\n",
    "    print(\"🔍 PERFORMANCE ANALYSIS BY FRAMEWORK\")\n",
    "    print(\"=\" * 60)\n",
    "    \n",
    "    # Group by framework for summary statistics\n",
    "    framework_stats = df.groupby('framework').agg({\n",
    "        'validation_score': ['mean', 'std', 'min', 'max'],\n",
    "        'validation_passed': ['sum', 'count', 'mean'],\n",
    "        'execution_time': ['mean', 'std'],\n",
    "        'tokens_used': ['mean', 'std'],\n",
    "        'reasoning_steps': ['mean', 'std']\n",
    "    }).round(2)\n",
    "    \n",
    "    framework_stats.columns = ['_'.join(col).strip() for col in framework_stats.columns]\n",
    "    \n",
    "    # Display framework comparison\n",
    "    for framework in df['framework'].unique():\n",
    "        subset = df[df['framework'] == framework]\n",
    "        print(f\"\\n🧠 {framework.upper()} Framework:\")\n",
    "        print(f\"   Validation Score: {subset['validation_score'].mean():.1f} ± {subset['validation_score'].std():.1f}\")\n",
    "        print(f\"   Success Rate: {subset['validation_passed'].mean():.1%} ({subset['validation_passed'].sum()}/{len(subset)})\")\n",
    "        print(f\"   Avg Execution Time: {subset['execution_time'].mean():.2f}s\")\n",
    "        print(f\"   Avg Tokens Used: {subset['tokens_used'].mean():.0f}\")\n",
    "        print(f\"   Avg Reasoning Steps: {subset['reasoning_steps'].mean():.1f}\")\n",
    "    \n",
    "    # Task type analysis\n",
    "    print(f\"\\n📋 PERFORMANCE BY TASK TYPE\")\n",
    "    print(\"=\" * 40)\n",
    "    \n",
    "    for task_type in df['task_type'].unique():\n",
    "        subset = df[df['task_type'] == task_type]\n",
    "        print(f\"\\n📝 {task_type.replace('_', ' ').title()}:\")\n",
    "        print(f\"   Best Framework: {subset.loc[subset['validation_score'].idxmax(), 'framework']}\")\n",
    "        print(f\"   Highest Score: {subset['validation_score'].max():.1f}\")\n",
    "        print(f\"   Success Rate: {subset['validation_passed'].mean():.1%}\")\n",
    "        \n",
    "        # Framework ranking for this task\n",
    "        task_ranking = subset.groupby('framework')['validation_score'].mean().sort_values(ascending=False)\n",
    "        print(f\"   Framework Ranking: {' > '.join([f'{fw}({score:.1f})' for fw, score in task_ranking.items()])}\")\n",
    "        \n",
    "else:\n",
    "    print(\"❌ No data available for analysis\")\n",
    "    print(\"💡 Please run the data loading cell above first!\")\n",
    "    print(\"🚀 Or run experiments: python run_experiment.py --quick --no-limit\")"
   ]
  },
  {
   "cell_type": "markdown",
   "id": "94ad60d7",
   "metadata": {},
   "source": [
    "## 📊 Interactive Data Visualizations\n",
    "\n",
    "Comprehensive visual analysis of framework performance and comparisons.\n",
    "\n",
    "## Reasoning Frameworks\n",
    "\n",
    "**ReAct:** Combines reasoning and action in iterative cycles  \n",
    "**Chain-of-Thought:** Sequential step-by-step logical reasoning  \n",
    "**Tree-of-Thoughts:** Explores multiple reasoning branches"
   ]
  },
  {
   "cell_type": "code",
   "execution_count": null,
   "id": "5808c78e",
   "metadata": {},
   "outputs": [
    {
     "name": "stdout",
     "output_type": "stream",
     "text": [
      "🧠 REASONING FRAMEWORKS\n",
      "==================================================\n",
      "✅ REACT\n",
      "✅ COT\n",
      "✅ TOT\n",
      "\n",
      "🎯 Experiment Design: 3 frameworks × 1 task per type × 3 runs = 27 total experiments\n"
     ]
    },
    {
     "data": {
      "application/vnd.plotly.v1+json": {
       "config": {
        "plotlyServerURL": "https://plot.ly"
       },
       "data": [
        {
         "boxpoints": "all",
         "jitter": 0.3,
         "name": "react",
         "pointpos": -1.8,
         "type": "box",
         "xaxis": "x",
         "y": {
          "bdata": "AAAAAACAVkAAAAAAAABUQAAAAAAAgFZAAAAAAABAV0AAAAAAAEBXQAAAAAAAQFdAAAAAAAAAFEAAAAAAAABWQAAAAAAAAPg/",
          "dtype": "f8"
         },
         "yaxis": "y"
        },
        {
         "boxpoints": "all",
         "jitter": 0.3,
         "name": "cot",
         "pointpos": -1.8,
         "type": "box",
         "xaxis": "x",
         "y": {
          "bdata": "AAAAAACAVkAAAAAAAIBWQAAAAAAAgFZAAAAAAABAV0AAAAAAAEBXQAAAAAAAQFdAAAAAAADAVEAAAAAAAMBUQAAAAAAAwFRA",
          "dtype": "f8"
         },
         "yaxis": "y"
        },
        {
         "boxpoints": "all",
         "jitter": 0.3,
         "name": "tot",
         "pointpos": -1.8,
         "type": "box",
         "xaxis": "x",
         "y": {
          "bdata": "AAAAAADAV0AAAAAAAIBWQAAAAAAAgFZAAAAAAADAVEAAAAAAAEBXQAAAAAAAgFZAAAAAAAAAVEAAAAAAAMBUQAAAAAAAgFZA",
          "dtype": "f8"
         },
         "yaxis": "y"
        },
        {
         "colorscale": [
          [
           0,
           "rgb(165,0,38)"
          ],
          [
           0.1,
           "rgb(215,48,39)"
          ],
          [
           0.2,
           "rgb(244,109,67)"
          ],
          [
           0.3,
           "rgb(253,174,97)"
          ],
          [
           0.4,
           "rgb(254,224,139)"
          ],
          [
           0.5,
           "rgb(255,255,191)"
          ],
          [
           0.6,
           "rgb(217,239,139)"
          ],
          [
           0.7,
           "rgb(166,217,106)"
          ],
          [
           0.8,
           "rgb(102,189,99)"
          ],
          [
           0.9,
           "rgb(26,152,80)"
          ],
          [
           1,
           "rgb(0,104,55)"
          ]
         ],
         "text": {
          "bdata": "AAAAAACAVkAAAAAAAEBXQAAAAAAAwFRAzczMzMysVUAAAAAAAEBXQAAAAAAAgD9AzczMzMzsVkDNzMzMzCxWQDMzMzMzE1VA",
          "dtype": "f8",
          "shape": "3, 3"
         },
         "textfont": {
          "size": 12
         },
         "texttemplate": "%{text}",
         "type": "heatmap",
         "x": [
          "code_generation",
          "itinerary_planning",
          "procedure_structuring"
         ],
         "xaxis": "x2",
         "y": [
          "cot",
          "react",
          "tot"
         ],
         "yaxis": "y2",
         "z": {
          "bdata": "AAAAAACAVkAAAAAAAEBXQAAAAAAAwFRAq6qqqqqqVUAAAAAAAEBXQAAAAAAAgD9Aq6qqqqrqVkCrqqqqqipWQFVVVVVVFVVA",
          "dtype": "f8",
          "shape": "3, 3"
         }
        },
        {
         "marker": {
          "color": "lightblue"
         },
         "name": "Success Rate (%)",
         "type": "bar",
         "x": [
          "cot",
          "react",
          "tot"
         ],
         "xaxis": "x3",
         "y": {
          "bdata": "AAAAAAAAWUAdx3Ecx3FTQAAAAAAAAFlA",
          "dtype": "f8"
         },
         "yaxis": "y3"
        },
        {
         "marker": {
          "color": {
           "bdata": "AQEBAAAAAgICAQEBAAAAAgICAQEBAAAAAgIC",
           "dtype": "i1"
          },
          "colorscale": [
           [
            0,
            "#440154"
           ],
           [
            0.1111111111111111,
            "#482878"
           ],
           [
            0.2222222222222222,
            "#3e4989"
           ],
           [
            0.3333333333333333,
            "#31688e"
           ],
           [
            0.4444444444444444,
            "#26828e"
           ],
           [
            0.5555555555555556,
            "#1f9e89"
           ],
           [
            0.6666666666666666,
            "#35b779"
           ],
           [
            0.7777777777777778,
            "#6ece58"
           ],
           [
            0.8888888888888888,
            "#b5de2b"
           ],
           [
            1,
            "#fde725"
           ]
          ],
          "opacity": 0.7,
          "size": 8
         },
         "mode": "markers",
         "name": "Score vs Time",
         "text": [
          "react<br>code_generation",
          "react<br>code_generation",
          "react<br>code_generation",
          "cot<br>code_generation",
          "cot<br>code_generation",
          "cot<br>code_generation",
          "tot<br>code_generation",
          "tot<br>code_generation",
          "tot<br>code_generation",
          "react<br>itinerary_planning",
          "react<br>itinerary_planning",
          "react<br>itinerary_planning",
          "cot<br>itinerary_planning",
          "cot<br>itinerary_planning",
          "cot<br>itinerary_planning",
          "tot<br>itinerary_planning",
          "tot<br>itinerary_planning",
          "tot<br>itinerary_planning",
          "react<br>procedure_structuring",
          "react<br>procedure_structuring",
          "react<br>procedure_structuring",
          "cot<br>procedure_structuring",
          "cot<br>procedure_structuring",
          "cot<br>procedure_structuring",
          "tot<br>procedure_structuring",
          "tot<br>procedure_structuring",
          "tot<br>procedure_structuring"
         ],
         "type": "scatter",
         "x": {
          "bdata": "AAAAdKNfMEAAAACQjb0kQAAAABjYMyJAAAAAMNFkI0ABAACo094kQAAAAEiDXTBAAAAA0JJKHUAAAAAwHyccQAAAAMCHLBBA////T9UpMkAAAACEaIkxQP///w9cDCpAAAAAQJwYNEAAAADgOMA0QAAAAOiKYjdAAQAAoPqsLkAAAABI0LcsQAEAAHhKsy1A////v4Yf+D8AAABAQQYlQAAAAEBbFfg/AAAAcGVeL0AAAADAk28rQP///2f0Ei9AAAAAuI1WIUAAAAC47VInQAAAABCW7yhA",
          "dtype": "f8"
         },
         "xaxis": "x4",
         "y": {
          "bdata": "AAAAAACAVkAAAAAAAABUQAAAAAAAgFZAAAAAAACAVkAAAAAAAIBWQAAAAAAAgFZAAAAAAADAV0AAAAAAAIBWQAAAAAAAgFZAAAAAAABAV0AAAAAAAEBXQAAAAAAAQFdAAAAAAABAV0AAAAAAAEBXQAAAAAAAQFdAAAAAAADAVEAAAAAAAEBXQAAAAAAAgFZAAAAAAAAAFEAAAAAAAABWQAAAAAAAAPg/AAAAAADAVEAAAAAAAMBUQAAAAAAAwFRAAAAAAAAAVEAAAAAAAMBUQAAAAAAAgFZA",
          "dtype": "f8"
         },
         "yaxis": "y4"
        }
       ],
       "layout": {
        "annotations": [
         {
          "font": {
           "size": 16
          },
          "showarrow": false,
          "text": "Score Distribution by Framework",
          "x": 0.225,
          "xanchor": "center",
          "xref": "paper",
          "y": 1,
          "yanchor": "bottom",
          "yref": "paper"
         },
         {
          "font": {
           "size": 16
          },
          "showarrow": false,
          "text": "Score by Task Type",
          "x": 0.775,
          "xanchor": "center",
          "xref": "paper",
          "y": 1,
          "yanchor": "bottom",
          "yref": "paper"
         },
         {
          "font": {
           "size": 16
          },
          "showarrow": false,
          "text": "Success Rate Comparison",
          "x": 0.225,
          "xanchor": "center",
          "xref": "paper",
          "y": 0.375,
          "yanchor": "bottom",
          "yref": "paper"
         },
         {
          "font": {
           "size": 16
          },
          "showarrow": false,
          "text": "Score vs Execution Time",
          "x": 0.775,
          "xanchor": "center",
          "xref": "paper",
          "y": 0.375,
          "yanchor": "bottom",
          "yref": "paper"
         }
        ],
        "height": 800,
        "showlegend": true,
        "template": {
         "data": {
          "bar": [
           {
            "error_x": {
             "color": "#2a3f5f"
            },
            "error_y": {
             "color": "#2a3f5f"
            },
            "marker": {
             "line": {
              "color": "#E5ECF6",
              "width": 0.5
             },
             "pattern": {
              "fillmode": "overlay",
              "size": 10,
              "solidity": 0.2
             }
            },
            "type": "bar"
           }
          ],
          "barpolar": [
           {
            "marker": {
             "line": {
              "color": "#E5ECF6",
              "width": 0.5
             },
             "pattern": {
              "fillmode": "overlay",
              "size": 10,
              "solidity": 0.2
             }
            },
            "type": "barpolar"
           }
          ],
          "carpet": [
           {
            "aaxis": {
             "endlinecolor": "#2a3f5f",
             "gridcolor": "white",
             "linecolor": "white",
             "minorgridcolor": "white",
             "startlinecolor": "#2a3f5f"
            },
            "baxis": {
             "endlinecolor": "#2a3f5f",
             "gridcolor": "white",
             "linecolor": "white",
             "minorgridcolor": "white",
             "startlinecolor": "#2a3f5f"
            },
            "type": "carpet"
           }
          ],
          "choropleth": [
           {
            "colorbar": {
             "outlinewidth": 0,
             "ticks": ""
            },
            "type": "choropleth"
           }
          ],
          "contour": [
           {
            "colorbar": {
             "outlinewidth": 0,
             "ticks": ""
            },
            "colorscale": [
             [
              0,
              "#0d0887"
             ],
             [
              0.1111111111111111,
              "#46039f"
             ],
             [
              0.2222222222222222,
              "#7201a8"
             ],
             [
              0.3333333333333333,
              "#9c179e"
             ],
             [
              0.4444444444444444,
              "#bd3786"
             ],
             [
              0.5555555555555556,
              "#d8576b"
             ],
             [
              0.6666666666666666,
              "#ed7953"
             ],
             [
              0.7777777777777778,
              "#fb9f3a"
             ],
             [
              0.8888888888888888,
              "#fdca26"
             ],
             [
              1,
              "#f0f921"
             ]
            ],
            "type": "contour"
           }
          ],
          "contourcarpet": [
           {
            "colorbar": {
             "outlinewidth": 0,
             "ticks": ""
            },
            "type": "contourcarpet"
           }
          ],
          "heatmap": [
           {
            "colorbar": {
             "outlinewidth": 0,
             "ticks": ""
            },
            "colorscale": [
             [
              0,
              "#0d0887"
             ],
             [
              0.1111111111111111,
              "#46039f"
             ],
             [
              0.2222222222222222,
              "#7201a8"
             ],
             [
              0.3333333333333333,
              "#9c179e"
             ],
             [
              0.4444444444444444,
              "#bd3786"
             ],
             [
              0.5555555555555556,
              "#d8576b"
             ],
             [
              0.6666666666666666,
              "#ed7953"
             ],
             [
              0.7777777777777778,
              "#fb9f3a"
             ],
             [
              0.8888888888888888,
              "#fdca26"
             ],
             [
              1,
              "#f0f921"
             ]
            ],
            "type": "heatmap"
           }
          ],
          "histogram": [
           {
            "marker": {
             "pattern": {
              "fillmode": "overlay",
              "size": 10,
              "solidity": 0.2
             }
            },
            "type": "histogram"
           }
          ],
          "histogram2d": [
           {
            "colorbar": {
             "outlinewidth": 0,
             "ticks": ""
            },
            "colorscale": [
             [
              0,
              "#0d0887"
             ],
             [
              0.1111111111111111,
              "#46039f"
             ],
             [
              0.2222222222222222,
              "#7201a8"
             ],
             [
              0.3333333333333333,
              "#9c179e"
             ],
             [
              0.4444444444444444,
              "#bd3786"
             ],
             [
              0.5555555555555556,
              "#d8576b"
             ],
             [
              0.6666666666666666,
              "#ed7953"
             ],
             [
              0.7777777777777778,
              "#fb9f3a"
             ],
             [
              0.8888888888888888,
              "#fdca26"
             ],
             [
              1,
              "#f0f921"
             ]
            ],
            "type": "histogram2d"
           }
          ],
          "histogram2dcontour": [
           {
            "colorbar": {
             "outlinewidth": 0,
             "ticks": ""
            },
            "colorscale": [
             [
              0,
              "#0d0887"
             ],
             [
              0.1111111111111111,
              "#46039f"
             ],
             [
              0.2222222222222222,
              "#7201a8"
             ],
             [
              0.3333333333333333,
              "#9c179e"
             ],
             [
              0.4444444444444444,
              "#bd3786"
             ],
             [
              0.5555555555555556,
              "#d8576b"
             ],
             [
              0.6666666666666666,
              "#ed7953"
             ],
             [
              0.7777777777777778,
              "#fb9f3a"
             ],
             [
              0.8888888888888888,
              "#fdca26"
             ],
             [
              1,
              "#f0f921"
             ]
            ],
            "type": "histogram2dcontour"
           }
          ],
          "mesh3d": [
           {
            "colorbar": {
             "outlinewidth": 0,
             "ticks": ""
            },
            "type": "mesh3d"
           }
          ],
          "parcoords": [
           {
            "line": {
             "colorbar": {
              "outlinewidth": 0,
              "ticks": ""
             }
            },
            "type": "parcoords"
           }
          ],
          "pie": [
           {
            "automargin": true,
            "type": "pie"
           }
          ],
          "scatter": [
           {
            "fillpattern": {
             "fillmode": "overlay",
             "size": 10,
             "solidity": 0.2
            },
            "type": "scatter"
           }
          ],
          "scatter3d": [
           {
            "line": {
             "colorbar": {
              "outlinewidth": 0,
              "ticks": ""
             }
            },
            "marker": {
             "colorbar": {
              "outlinewidth": 0,
              "ticks": ""
             }
            },
            "type": "scatter3d"
           }
          ],
          "scattercarpet": [
           {
            "marker": {
             "colorbar": {
              "outlinewidth": 0,
              "ticks": ""
             }
            },
            "type": "scattercarpet"
           }
          ],
          "scattergeo": [
           {
            "marker": {
             "colorbar": {
              "outlinewidth": 0,
              "ticks": ""
             }
            },
            "type": "scattergeo"
           }
          ],
          "scattergl": [
           {
            "marker": {
             "colorbar": {
              "outlinewidth": 0,
              "ticks": ""
             }
            },
            "type": "scattergl"
           }
          ],
          "scattermap": [
           {
            "marker": {
             "colorbar": {
              "outlinewidth": 0,
              "ticks": ""
             }
            },
            "type": "scattermap"
           }
          ],
          "scattermapbox": [
           {
            "marker": {
             "colorbar": {
              "outlinewidth": 0,
              "ticks": ""
             }
            },
            "type": "scattermapbox"
           }
          ],
          "scatterpolar": [
           {
            "marker": {
             "colorbar": {
              "outlinewidth": 0,
              "ticks": ""
             }
            },
            "type": "scatterpolar"
           }
          ],
          "scatterpolargl": [
           {
            "marker": {
             "colorbar": {
              "outlinewidth": 0,
              "ticks": ""
             }
            },
            "type": "scatterpolargl"
           }
          ],
          "scatterternary": [
           {
            "marker": {
             "colorbar": {
              "outlinewidth": 0,
              "ticks": ""
             }
            },
            "type": "scatterternary"
           }
          ],
          "surface": [
           {
            "colorbar": {
             "outlinewidth": 0,
             "ticks": ""
            },
            "colorscale": [
             [
              0,
              "#0d0887"
             ],
             [
              0.1111111111111111,
              "#46039f"
             ],
             [
              0.2222222222222222,
              "#7201a8"
             ],
             [
              0.3333333333333333,
              "#9c179e"
             ],
             [
              0.4444444444444444,
              "#bd3786"
             ],
             [
              0.5555555555555556,
              "#d8576b"
             ],
             [
              0.6666666666666666,
              "#ed7953"
             ],
             [
              0.7777777777777778,
              "#fb9f3a"
             ],
             [
              0.8888888888888888,
              "#fdca26"
             ],
             [
              1,
              "#f0f921"
             ]
            ],
            "type": "surface"
           }
          ],
          "table": [
           {
            "cells": {
             "fill": {
              "color": "#EBF0F8"
             },
             "line": {
              "color": "white"
             }
            },
            "header": {
             "fill": {
              "color": "#C8D4E3"
             },
             "line": {
              "color": "white"
             }
            },
            "type": "table"
           }
          ]
         },
         "layout": {
          "annotationdefaults": {
           "arrowcolor": "#2a3f5f",
           "arrowhead": 0,
           "arrowwidth": 1
          },
          "autotypenumbers": "strict",
          "coloraxis": {
           "colorbar": {
            "outlinewidth": 0,
            "ticks": ""
           }
          },
          "colorscale": {
           "diverging": [
            [
             0,
             "#8e0152"
            ],
            [
             0.1,
             "#c51b7d"
            ],
            [
             0.2,
             "#de77ae"
            ],
            [
             0.3,
             "#f1b6da"
            ],
            [
             0.4,
             "#fde0ef"
            ],
            [
             0.5,
             "#f7f7f7"
            ],
            [
             0.6,
             "#e6f5d0"
            ],
            [
             0.7,
             "#b8e186"
            ],
            [
             0.8,
             "#7fbc41"
            ],
            [
             0.9,
             "#4d9221"
            ],
            [
             1,
             "#276419"
            ]
           ],
           "sequential": [
            [
             0,
             "#0d0887"
            ],
            [
             0.1111111111111111,
             "#46039f"
            ],
            [
             0.2222222222222222,
             "#7201a8"
            ],
            [
             0.3333333333333333,
             "#9c179e"
            ],
            [
             0.4444444444444444,
             "#bd3786"
            ],
            [
             0.5555555555555556,
             "#d8576b"
            ],
            [
             0.6666666666666666,
             "#ed7953"
            ],
            [
             0.7777777777777778,
             "#fb9f3a"
            ],
            [
             0.8888888888888888,
             "#fdca26"
            ],
            [
             1,
             "#f0f921"
            ]
           ],
           "sequentialminus": [
            [
             0,
             "#0d0887"
            ],
            [
             0.1111111111111111,
             "#46039f"
            ],
            [
             0.2222222222222222,
             "#7201a8"
            ],
            [
             0.3333333333333333,
             "#9c179e"
            ],
            [
             0.4444444444444444,
             "#bd3786"
            ],
            [
             0.5555555555555556,
             "#d8576b"
            ],
            [
             0.6666666666666666,
             "#ed7953"
            ],
            [
             0.7777777777777778,
             "#fb9f3a"
            ],
            [
             0.8888888888888888,
             "#fdca26"
            ],
            [
             1,
             "#f0f921"
            ]
           ]
          },
          "colorway": [
           "#636efa",
           "#EF553B",
           "#00cc96",
           "#ab63fa",
           "#FFA15A",
           "#19d3f3",
           "#FF6692",
           "#B6E880",
           "#FF97FF",
           "#FECB52"
          ],
          "font": {
           "color": "#2a3f5f"
          },
          "geo": {
           "bgcolor": "white",
           "lakecolor": "white",
           "landcolor": "#E5ECF6",
           "showlakes": true,
           "showland": true,
           "subunitcolor": "white"
          },
          "hoverlabel": {
           "align": "left"
          },
          "hovermode": "closest",
          "mapbox": {
           "style": "light"
          },
          "paper_bgcolor": "white",
          "plot_bgcolor": "#E5ECF6",
          "polar": {
           "angularaxis": {
            "gridcolor": "white",
            "linecolor": "white",
            "ticks": ""
           },
           "bgcolor": "#E5ECF6",
           "radialaxis": {
            "gridcolor": "white",
            "linecolor": "white",
            "ticks": ""
           }
          },
          "scene": {
           "xaxis": {
            "backgroundcolor": "#E5ECF6",
            "gridcolor": "white",
            "gridwidth": 2,
            "linecolor": "white",
            "showbackground": true,
            "ticks": "",
            "zerolinecolor": "white"
           },
           "yaxis": {
            "backgroundcolor": "#E5ECF6",
            "gridcolor": "white",
            "gridwidth": 2,
            "linecolor": "white",
            "showbackground": true,
            "ticks": "",
            "zerolinecolor": "white"
           },
           "zaxis": {
            "backgroundcolor": "#E5ECF6",
            "gridcolor": "white",
            "gridwidth": 2,
            "linecolor": "white",
            "showbackground": true,
            "ticks": "",
            "zerolinecolor": "white"
           }
          },
          "shapedefaults": {
           "line": {
            "color": "#2a3f5f"
           }
          },
          "ternary": {
           "aaxis": {
            "gridcolor": "white",
            "linecolor": "white",
            "ticks": ""
           },
           "baxis": {
            "gridcolor": "white",
            "linecolor": "white",
            "ticks": ""
           },
           "bgcolor": "#E5ECF6",
           "caxis": {
            "gridcolor": "white",
            "linecolor": "white",
            "ticks": ""
           }
          },
          "title": {
           "x": 0.05
          },
          "xaxis": {
           "automargin": true,
           "gridcolor": "white",
           "linecolor": "white",
           "ticks": "",
           "title": {
            "standoff": 15
           },
           "zerolinecolor": "white",
           "zerolinewidth": 2
          },
          "yaxis": {
           "automargin": true,
           "gridcolor": "white",
           "linecolor": "white",
           "ticks": "",
           "title": {
            "standoff": 15
           },
           "zerolinecolor": "white",
           "zerolinewidth": 2
          }
         }
        },
        "title": {
         "text": "LLM Reasoning Framework Performance Analysis"
        },
        "xaxis": {
         "anchor": "y",
         "domain": [
          0,
          0.45
         ],
         "title": {
          "text": "Framework"
         }
        },
        "xaxis2": {
         "anchor": "y2",
         "domain": [
          0.55,
          1
         ],
         "title": {
          "text": "Task Type"
         }
        },
        "xaxis3": {
         "anchor": "y3",
         "domain": [
          0,
          0.45
         ],
         "title": {
          "text": "Framework"
         }
        },
        "xaxis4": {
         "anchor": "y4",
         "domain": [
          0.55,
          1
         ],
         "title": {
          "text": "Execution Time (s)"
         }
        },
        "yaxis": {
         "anchor": "x",
         "domain": [
          0.625,
          1
         ],
         "title": {
          "text": "Validation Score"
         }
        },
        "yaxis2": {
         "anchor": "x2",
         "domain": [
          0.625,
          1
         ],
         "title": {
          "text": "Framework"
         }
        },
        "yaxis3": {
         "anchor": "x3",
         "domain": [
          0,
          0.375
         ],
         "title": {
          "text": "Success Rate (%)"
         }
        },
        "yaxis4": {
         "anchor": "x4",
         "domain": [
          0,
          0.375
         ],
         "title": {
          "text": "Validation Score"
         }
        }
       }
      }
     },
     "metadata": {},
     "output_type": "display_data"
    }
   ],
   "source": [
    "# Initialize frameworks\n",
    "frameworks = AgentFactory.get_available_frameworks()\n",
    "llm_manager = LLMManager()\n",
    "\n",
    "print(\"🧠 REASONING FRAMEWORKS\")\n",
    "print(\"=\" * 50)\n",
    "for framework in frameworks:\n",
    "    print(f\"✅ {framework.upper()}\")\n",
    "\n",
    "print(f\"\\n🎯 Experiment Design: {len(frameworks)} frameworks × 1 task per type × 3 runs = {len(frameworks) * 3 * 3} total experiments\")\n",
    "\n",
    "# 1. Validation Score Comparison Across Frameworks\n",
    "if df is not None:\n",
    "    # Create subplot layout\n",
    "    fig = make_subplots(\n",
    "        rows=2, cols=2,\n",
    "        subplot_titles=['Score Distribution by Framework', 'Score by Task Type', \n",
    "                       'Success Rate Comparison', 'Score vs Execution Time'],\n",
    "        specs=[[{\"secondary_y\": False}, {\"secondary_y\": False}],\n",
    "               [{\"secondary_y\": False}, {\"secondary_y\": False}]]\n",
    "    )\n",
    "    \n",
    "    # 1. Box plot of scores by framework\n",
    "    for i, framework in enumerate(df['framework'].unique()):\n",
    "        subset = df[df['framework'] == framework]\n",
    "        fig.add_trace(\n",
    "            go.Box(y=subset['validation_score'], name=framework, \n",
    "                   boxpoints='all', jitter=0.3, pointpos=-1.8,\n",
    "                   marker_color=FRAMEWORK_COLORS.get(framework, '#888888')),\n",
    "            row=1, col=1\n",
    "        )\n",
    "    \n",
    "    # 2. Score by task type heatmap data\n",
    "    score_matrix = df.pivot_table(values='validation_score', \n",
    "                                  index='framework', \n",
    "                                  columns='task_type', \n",
    "                                  aggfunc='mean')\n",
    "    \n",
    "    fig.add_trace(\n",
    "        go.Heatmap(z=score_matrix.values, \n",
    "                   x=score_matrix.columns, \n",
    "                   y=score_matrix.index,\n",
    "                   colorscale='RdYlGn',\n",
    "                   text=score_matrix.values.round(1),\n",
    "                   texttemplate=\"%{text}\",\n",
    "                   textfont={\"size\": 12}),\n",
    "        row=1, col=2\n",
    "    )\n",
    "    \n",
    "    # 3. Success rate bar chart with custom colors\n",
    "    success_rates = df.groupby('framework')['validation_passed'].mean() * 100\n",
    "    fig.add_trace(\n",
    "        go.Bar(x=success_rates.index, y=success_rates.values, \n",
    "               name='Success Rate (%)', \n",
    "               marker_color=get_framework_colors(success_rates.index)),\n",
    "        row=2, col=1\n",
    "    )\n",
    "    \n",
    "    # 4. Score vs Execution Time scatter with custom colors\n",
    "    fig.add_trace(\n",
    "        go.Scatter(x=df['execution_time'], y=df['validation_score'],\n",
    "                   mode='markers', \n",
    "                   marker=dict(size=8, \n",
    "                              color=[FRAMEWORK_COLORS.get(fw, '#888888') for fw in df['framework']],\n",
    "                              opacity=0.7),\n",
    "                   text=df['framework'] + '<br>' + df['task_type'],\n",
    "                   name='Score vs Time'),\n",
    "        row=2, col=2\n",
    "    )\n",
    "    \n",
    "    # Update layout\n",
    "    fig.update_layout(height=800, showlegend=True, \n",
    "                      title_text=\"LLM Reasoning Framework Performance Analysis\")\n",
    "    fig.update_xaxes(title_text=\"Framework\", row=1, col=1)\n",
    "    fig.update_yaxes(title_text=\"Validation Score\", row=1, col=1)\n",
    "    fig.update_xaxes(title_text=\"Task Type\", row=1, col=2)\n",
    "    fig.update_yaxes(title_text=\"Framework\", row=1, col=2)\n",
    "    fig.update_xaxes(title_text=\"Framework\", row=2, col=1)\n",
    "    fig.update_yaxes(title_text=\"Success Rate (%)\", row=2, col=1)\n",
    "    fig.update_xaxes(title_text=\"Execution Time (s)\", row=2, col=2)\n",
    "    fig.update_yaxes(title_text=\"Validation Score\", row=2, col=2)\n",
    "    \n",
    "    fig.show()\n",
    "    \n",
    "else:\n",
    "    print(\"❌ No data available for visualization\")"
   ]
  },
  {
   "cell_type": "markdown",
   "id": "5b103ee7",
   "metadata": {},
   "source": [
    "## Experiment Execution\n",
    "\n",
    "### 🚀 Performance Metrics Deep Dive"
   ]
  },
  {
   "cell_type": "code",
   "execution_count": 6,
   "id": "13013ee4",
   "metadata": {},
   "outputs": [
    {
     "name": "stdout",
     "output_type": "stream",
     "text": [
      "🔸 DEMO MODE: Generating mock results (no API calls)\n",
      "\n",
      "✅ Experiment completed: 27 results\n"
     ]
    },
    {
     "data": {
      "application/vnd.plotly.v1+json": {
       "config": {
        "plotlyServerURL": "https://plot.ly"
       },
       "data": [
        {
         "fill": "toself",
         "line": {
          "width": 2
         },
         "name": "REACT",
         "r": [
          70.38888888888889,
          53.39140423174933,
          43.561829197035394,
          32.22222222222222,
          70.38888888888889
         ],
         "theta": [
          "Quality Score",
          "Speed",
          "Efficiency",
          "Complexity",
          "Quality Score"
         ],
         "type": "scatterpolar"
        },
        {
         "fill": "toself",
         "line": {
          "width": 2
         },
         "name": "COT",
         "r": [
          88.66666666666667,
          30.787032727595335,
          18.470338592121045,
          14.444444444444445,
          88.66666666666667
         ],
         "theta": [
          "Quality Score",
          "Speed",
          "Efficiency",
          "Complexity",
          "Quality Score"
         ],
         "type": "scatterpolar"
        },
        {
         "fill": "toself",
         "line": {
          "width": 2
         },
         "name": "TOT",
         "r": [
          88.22222222222223,
          54.50512191976409,
          39.87760248485407,
          76.66666666666667,
          88.22222222222223
         ],
         "theta": [
          "Quality Score",
          "Speed",
          "Efficiency",
          "Complexity",
          "Quality Score"
         ],
         "type": "scatterpolar"
        }
       ],
       "layout": {
        "height": 500,
        "polar": {
         "radialaxis": {
          "range": [
           0,
           100
          ],
          "visible": true
         }
        },
        "showlegend": true,
        "template": {
         "data": {
          "bar": [
           {
            "error_x": {
             "color": "#2a3f5f"
            },
            "error_y": {
             "color": "#2a3f5f"
            },
            "marker": {
             "line": {
              "color": "#E5ECF6",
              "width": 0.5
             },
             "pattern": {
              "fillmode": "overlay",
              "size": 10,
              "solidity": 0.2
             }
            },
            "type": "bar"
           }
          ],
          "barpolar": [
           {
            "marker": {
             "line": {
              "color": "#E5ECF6",
              "width": 0.5
             },
             "pattern": {
              "fillmode": "overlay",
              "size": 10,
              "solidity": 0.2
             }
            },
            "type": "barpolar"
           }
          ],
          "carpet": [
           {
            "aaxis": {
             "endlinecolor": "#2a3f5f",
             "gridcolor": "white",
             "linecolor": "white",
             "minorgridcolor": "white",
             "startlinecolor": "#2a3f5f"
            },
            "baxis": {
             "endlinecolor": "#2a3f5f",
             "gridcolor": "white",
             "linecolor": "white",
             "minorgridcolor": "white",
             "startlinecolor": "#2a3f5f"
            },
            "type": "carpet"
           }
          ],
          "choropleth": [
           {
            "colorbar": {
             "outlinewidth": 0,
             "ticks": ""
            },
            "type": "choropleth"
           }
          ],
          "contour": [
           {
            "colorbar": {
             "outlinewidth": 0,
             "ticks": ""
            },
            "colorscale": [
             [
              0,
              "#0d0887"
             ],
             [
              0.1111111111111111,
              "#46039f"
             ],
             [
              0.2222222222222222,
              "#7201a8"
             ],
             [
              0.3333333333333333,
              "#9c179e"
             ],
             [
              0.4444444444444444,
              "#bd3786"
             ],
             [
              0.5555555555555556,
              "#d8576b"
             ],
             [
              0.6666666666666666,
              "#ed7953"
             ],
             [
              0.7777777777777778,
              "#fb9f3a"
             ],
             [
              0.8888888888888888,
              "#fdca26"
             ],
             [
              1,
              "#f0f921"
             ]
            ],
            "type": "contour"
           }
          ],
          "contourcarpet": [
           {
            "colorbar": {
             "outlinewidth": 0,
             "ticks": ""
            },
            "type": "contourcarpet"
           }
          ],
          "heatmap": [
           {
            "colorbar": {
             "outlinewidth": 0,
             "ticks": ""
            },
            "colorscale": [
             [
              0,
              "#0d0887"
             ],
             [
              0.1111111111111111,
              "#46039f"
             ],
             [
              0.2222222222222222,
              "#7201a8"
             ],
             [
              0.3333333333333333,
              "#9c179e"
             ],
             [
              0.4444444444444444,
              "#bd3786"
             ],
             [
              0.5555555555555556,
              "#d8576b"
             ],
             [
              0.6666666666666666,
              "#ed7953"
             ],
             [
              0.7777777777777778,
              "#fb9f3a"
             ],
             [
              0.8888888888888888,
              "#fdca26"
             ],
             [
              1,
              "#f0f921"
             ]
            ],
            "type": "heatmap"
           }
          ],
          "histogram": [
           {
            "marker": {
             "pattern": {
              "fillmode": "overlay",
              "size": 10,
              "solidity": 0.2
             }
            },
            "type": "histogram"
           }
          ],
          "histogram2d": [
           {
            "colorbar": {
             "outlinewidth": 0,
             "ticks": ""
            },
            "colorscale": [
             [
              0,
              "#0d0887"
             ],
             [
              0.1111111111111111,
              "#46039f"
             ],
             [
              0.2222222222222222,
              "#7201a8"
             ],
             [
              0.3333333333333333,
              "#9c179e"
             ],
             [
              0.4444444444444444,
              "#bd3786"
             ],
             [
              0.5555555555555556,
              "#d8576b"
             ],
             [
              0.6666666666666666,
              "#ed7953"
             ],
             [
              0.7777777777777778,
              "#fb9f3a"
             ],
             [
              0.8888888888888888,
              "#fdca26"
             ],
             [
              1,
              "#f0f921"
             ]
            ],
            "type": "histogram2d"
           }
          ],
          "histogram2dcontour": [
           {
            "colorbar": {
             "outlinewidth": 0,
             "ticks": ""
            },
            "colorscale": [
             [
              0,
              "#0d0887"
             ],
             [
              0.1111111111111111,
              "#46039f"
             ],
             [
              0.2222222222222222,
              "#7201a8"
             ],
             [
              0.3333333333333333,
              "#9c179e"
             ],
             [
              0.4444444444444444,
              "#bd3786"
             ],
             [
              0.5555555555555556,
              "#d8576b"
             ],
             [
              0.6666666666666666,
              "#ed7953"
             ],
             [
              0.7777777777777778,
              "#fb9f3a"
             ],
             [
              0.8888888888888888,
              "#fdca26"
             ],
             [
              1,
              "#f0f921"
             ]
            ],
            "type": "histogram2dcontour"
           }
          ],
          "mesh3d": [
           {
            "colorbar": {
             "outlinewidth": 0,
             "ticks": ""
            },
            "type": "mesh3d"
           }
          ],
          "parcoords": [
           {
            "line": {
             "colorbar": {
              "outlinewidth": 0,
              "ticks": ""
             }
            },
            "type": "parcoords"
           }
          ],
          "pie": [
           {
            "automargin": true,
            "type": "pie"
           }
          ],
          "scatter": [
           {
            "fillpattern": {
             "fillmode": "overlay",
             "size": 10,
             "solidity": 0.2
            },
            "type": "scatter"
           }
          ],
          "scatter3d": [
           {
            "line": {
             "colorbar": {
              "outlinewidth": 0,
              "ticks": ""
             }
            },
            "marker": {
             "colorbar": {
              "outlinewidth": 0,
              "ticks": ""
             }
            },
            "type": "scatter3d"
           }
          ],
          "scattercarpet": [
           {
            "marker": {
             "colorbar": {
              "outlinewidth": 0,
              "ticks": ""
             }
            },
            "type": "scattercarpet"
           }
          ],
          "scattergeo": [
           {
            "marker": {
             "colorbar": {
              "outlinewidth": 0,
              "ticks": ""
             }
            },
            "type": "scattergeo"
           }
          ],
          "scattergl": [
           {
            "marker": {
             "colorbar": {
              "outlinewidth": 0,
              "ticks": ""
             }
            },
            "type": "scattergl"
           }
          ],
          "scattermap": [
           {
            "marker": {
             "colorbar": {
              "outlinewidth": 0,
              "ticks": ""
             }
            },
            "type": "scattermap"
           }
          ],
          "scattermapbox": [
           {
            "marker": {
             "colorbar": {
              "outlinewidth": 0,
              "ticks": ""
             }
            },
            "type": "scattermapbox"
           }
          ],
          "scatterpolar": [
           {
            "marker": {
             "colorbar": {
              "outlinewidth": 0,
              "ticks": ""
             }
            },
            "type": "scatterpolar"
           }
          ],
          "scatterpolargl": [
           {
            "marker": {
             "colorbar": {
              "outlinewidth": 0,
              "ticks": ""
             }
            },
            "type": "scatterpolargl"
           }
          ],
          "scatterternary": [
           {
            "marker": {
             "colorbar": {
              "outlinewidth": 0,
              "ticks": ""
             }
            },
            "type": "scatterternary"
           }
          ],
          "surface": [
           {
            "colorbar": {
             "outlinewidth": 0,
             "ticks": ""
            },
            "colorscale": [
             [
              0,
              "#0d0887"
             ],
             [
              0.1111111111111111,
              "#46039f"
             ],
             [
              0.2222222222222222,
              "#7201a8"
             ],
             [
              0.3333333333333333,
              "#9c179e"
             ],
             [
              0.4444444444444444,
              "#bd3786"
             ],
             [
              0.5555555555555556,
              "#d8576b"
             ],
             [
              0.6666666666666666,
              "#ed7953"
             ],
             [
              0.7777777777777778,
              "#fb9f3a"
             ],
             [
              0.8888888888888888,
              "#fdca26"
             ],
             [
              1,
              "#f0f921"
             ]
            ],
            "type": "surface"
           }
          ],
          "table": [
           {
            "cells": {
             "fill": {
              "color": "#EBF0F8"
             },
             "line": {
              "color": "white"
             }
            },
            "header": {
             "fill": {
              "color": "#C8D4E3"
             },
             "line": {
              "color": "white"
             }
            },
            "type": "table"
           }
          ]
         },
         "layout": {
          "annotationdefaults": {
           "arrowcolor": "#2a3f5f",
           "arrowhead": 0,
           "arrowwidth": 1
          },
          "autotypenumbers": "strict",
          "coloraxis": {
           "colorbar": {
            "outlinewidth": 0,
            "ticks": ""
           }
          },
          "colorscale": {
           "diverging": [
            [
             0,
             "#8e0152"
            ],
            [
             0.1,
             "#c51b7d"
            ],
            [
             0.2,
             "#de77ae"
            ],
            [
             0.3,
             "#f1b6da"
            ],
            [
             0.4,
             "#fde0ef"
            ],
            [
             0.5,
             "#f7f7f7"
            ],
            [
             0.6,
             "#e6f5d0"
            ],
            [
             0.7,
             "#b8e186"
            ],
            [
             0.8,
             "#7fbc41"
            ],
            [
             0.9,
             "#4d9221"
            ],
            [
             1,
             "#276419"
            ]
           ],
           "sequential": [
            [
             0,
             "#0d0887"
            ],
            [
             0.1111111111111111,
             "#46039f"
            ],
            [
             0.2222222222222222,
             "#7201a8"
            ],
            [
             0.3333333333333333,
             "#9c179e"
            ],
            [
             0.4444444444444444,
             "#bd3786"
            ],
            [
             0.5555555555555556,
             "#d8576b"
            ],
            [
             0.6666666666666666,
             "#ed7953"
            ],
            [
             0.7777777777777778,
             "#fb9f3a"
            ],
            [
             0.8888888888888888,
             "#fdca26"
            ],
            [
             1,
             "#f0f921"
            ]
           ],
           "sequentialminus": [
            [
             0,
             "#0d0887"
            ],
            [
             0.1111111111111111,
             "#46039f"
            ],
            [
             0.2222222222222222,
             "#7201a8"
            ],
            [
             0.3333333333333333,
             "#9c179e"
            ],
            [
             0.4444444444444444,
             "#bd3786"
            ],
            [
             0.5555555555555556,
             "#d8576b"
            ],
            [
             0.6666666666666666,
             "#ed7953"
            ],
            [
             0.7777777777777778,
             "#fb9f3a"
            ],
            [
             0.8888888888888888,
             "#fdca26"
            ],
            [
             1,
             "#f0f921"
            ]
           ]
          },
          "colorway": [
           "#636efa",
           "#EF553B",
           "#00cc96",
           "#ab63fa",
           "#FFA15A",
           "#19d3f3",
           "#FF6692",
           "#B6E880",
           "#FF97FF",
           "#FECB52"
          ],
          "font": {
           "color": "#2a3f5f"
          },
          "geo": {
           "bgcolor": "white",
           "lakecolor": "white",
           "landcolor": "#E5ECF6",
           "showlakes": true,
           "showland": true,
           "subunitcolor": "white"
          },
          "hoverlabel": {
           "align": "left"
          },
          "hovermode": "closest",
          "mapbox": {
           "style": "light"
          },
          "paper_bgcolor": "white",
          "plot_bgcolor": "#E5ECF6",
          "polar": {
           "angularaxis": {
            "gridcolor": "white",
            "linecolor": "white",
            "ticks": ""
           },
           "bgcolor": "#E5ECF6",
           "radialaxis": {
            "gridcolor": "white",
            "linecolor": "white",
            "ticks": ""
           }
          },
          "scene": {
           "xaxis": {
            "backgroundcolor": "#E5ECF6",
            "gridcolor": "white",
            "gridwidth": 2,
            "linecolor": "white",
            "showbackground": true,
            "ticks": "",
            "zerolinecolor": "white"
           },
           "yaxis": {
            "backgroundcolor": "#E5ECF6",
            "gridcolor": "white",
            "gridwidth": 2,
            "linecolor": "white",
            "showbackground": true,
            "ticks": "",
            "zerolinecolor": "white"
           },
           "zaxis": {
            "backgroundcolor": "#E5ECF6",
            "gridcolor": "white",
            "gridwidth": 2,
            "linecolor": "white",
            "showbackground": true,
            "ticks": "",
            "zerolinecolor": "white"
           }
          },
          "shapedefaults": {
           "line": {
            "color": "#2a3f5f"
           }
          },
          "ternary": {
           "aaxis": {
            "gridcolor": "white",
            "linecolor": "white",
            "ticks": ""
           },
           "baxis": {
            "gridcolor": "white",
            "linecolor": "white",
            "ticks": ""
           },
           "bgcolor": "#E5ECF6",
           "caxis": {
            "gridcolor": "white",
            "linecolor": "white",
            "ticks": ""
           }
          },
          "title": {
           "x": 0.05
          },
          "xaxis": {
           "automargin": true,
           "gridcolor": "white",
           "linecolor": "white",
           "ticks": "",
           "title": {
            "standoff": 15
           },
           "zerolinecolor": "white",
           "zerolinewidth": 2
          },
          "yaxis": {
           "automargin": true,
           "gridcolor": "white",
           "linecolor": "white",
           "ticks": "",
           "title": {
            "standoff": 15
           },
           "zerolinecolor": "white",
           "zerolinewidth": 2
          }
         }
        },
        "title": {
         "text": "Framework Performance Radar Chart<br><sub>Higher values = Better performance</sub>"
        }
       }
      }
     },
     "metadata": {},
     "output_type": "display_data"
    },
    {
     "name": "stdout",
     "output_type": "stream",
     "text": [
      "\n",
      "📊 DETAILED PERFORMANCE METRICS\n",
      "==================================================\n"
     ]
    },
    {
     "data": {
      "text/html": [
       "<style type=\"text/css\">\n",
       "#T_d2a58_row0_col0, #T_d2a58_row0_col4, #T_d2a58_row1_col2, #T_d2a58_row2_col1, #T_d2a58_row2_col4, #T_d2a58_row2_col5 {\n",
       "  background-color: yellow;\n",
       "}\n",
       "</style>\n",
       "<table id=\"T_d2a58\">\n",
       "  <thead>\n",
       "    <tr>\n",
       "      <th class=\"blank level0\" >&nbsp;</th>\n",
       "      <th id=\"T_d2a58_level0_col0\" class=\"col_heading level0 col0\" >validation_score</th>\n",
       "      <th id=\"T_d2a58_level0_col1\" class=\"col_heading level0 col1\" >execution_time</th>\n",
       "      <th id=\"T_d2a58_level0_col2\" class=\"col_heading level0 col2\" >tokens_used</th>\n",
       "      <th id=\"T_d2a58_level0_col3\" class=\"col_heading level0 col3\" >reasoning_steps</th>\n",
       "      <th id=\"T_d2a58_level0_col4\" class=\"col_heading level0 col4\" >validation_passed</th>\n",
       "      <th id=\"T_d2a58_level0_col5\" class=\"col_heading level0 col5\" >efficiency</th>\n",
       "    </tr>\n",
       "    <tr>\n",
       "      <th class=\"index_name level0\" >framework</th>\n",
       "      <th class=\"blank col0\" >&nbsp;</th>\n",
       "      <th class=\"blank col1\" >&nbsp;</th>\n",
       "      <th class=\"blank col2\" >&nbsp;</th>\n",
       "      <th class=\"blank col3\" >&nbsp;</th>\n",
       "      <th class=\"blank col4\" >&nbsp;</th>\n",
       "      <th class=\"blank col5\" >&nbsp;</th>\n",
       "    </tr>\n",
       "  </thead>\n",
       "  <tbody>\n",
       "    <tr>\n",
       "      <th id=\"T_d2a58_level0_row0\" class=\"row_heading level0 row0\" >cot</th>\n",
       "      <td id=\"T_d2a58_row0_col0\" class=\"data row0 col0\" >88.670000</td>\n",
       "      <td id=\"T_d2a58_row0_col1\" class=\"data row0 col1\" >16.190000</td>\n",
       "      <td id=\"T_d2a58_row0_col2\" class=\"data row0 col2\" >2945.670000</td>\n",
       "      <td id=\"T_d2a58_row0_col3\" class=\"data row0 col3\" >2.890000</td>\n",
       "      <td id=\"T_d2a58_row0_col4\" class=\"data row0 col4\" >100.0%</td>\n",
       "      <td id=\"T_d2a58_row0_col5\" class=\"data row0 col5\" >5.480000</td>\n",
       "    </tr>\n",
       "    <tr>\n",
       "      <th id=\"T_d2a58_level0_row1\" class=\"row_heading level0 row1\" >react</th>\n",
       "      <td id=\"T_d2a58_row1_col0\" class=\"data row1 col0\" >70.390000</td>\n",
       "      <td id=\"T_d2a58_row1_col1\" class=\"data row1 col1\" >10.900000</td>\n",
       "      <td id=\"T_d2a58_row1_col2\" class=\"data row1 col2\" >2039.110000</td>\n",
       "      <td id=\"T_d2a58_row1_col3\" class=\"data row1 col3\" >6.440000</td>\n",
       "      <td id=\"T_d2a58_row1_col4\" class=\"data row1 col4\" >78.0%</td>\n",
       "      <td id=\"T_d2a58_row1_col5\" class=\"data row1 col5\" >6.460000</td>\n",
       "    </tr>\n",
       "    <tr>\n",
       "      <th id=\"T_d2a58_level0_row2\" class=\"row_heading level0 row2\" >tot</th>\n",
       "      <td id=\"T_d2a58_row2_col0\" class=\"data row2 col0\" >88.220000</td>\n",
       "      <td id=\"T_d2a58_row2_col1\" class=\"data row2 col1\" >10.640000</td>\n",
       "      <td id=\"T_d2a58_row2_col2\" class=\"data row2 col2\" >2172.220000</td>\n",
       "      <td id=\"T_d2a58_row2_col3\" class=\"data row2 col3\" >15.330000</td>\n",
       "      <td id=\"T_d2a58_row2_col4\" class=\"data row2 col4\" >100.0%</td>\n",
       "      <td id=\"T_d2a58_row2_col5\" class=\"data row2 col5\" >8.290000</td>\n",
       "    </tr>\n",
       "  </tbody>\n",
       "</table>\n"
      ],
      "text/plain": [
       "<pandas.io.formats.style.Styler at 0x7feccd527bc0>"
      ]
     },
     "metadata": {},
     "output_type": "display_data"
    }
   ],
   "source": [
    "# Construct all_tasks from df\n",
    "all_tasks = {}\n",
    "for ttype in df['task_type'].unique():\n",
    "    all_tasks[ttype] = [\n",
    "        type('Task', (), {\n",
    "            'id': row['task_id'],\n",
    "            'title': f\"{row['task_type']} ({row['task_id']})\"\n",
    "        })()\n",
    "        for _, row in df[df['task_type'] == ttype].iterrows()\n",
    "    ]\n",
    "\n",
    "def run_experiment(demo_mode=True, runs_per_task=3):\n",
    "    \"\"\"Run the complete experiment.\"\"\"\n",
    "    results = []\n",
    "    \n",
    "    if demo_mode:\n",
    "        print(\"🔸 DEMO MODE: Generating mock results (no API calls)\")\n",
    "        \n",
    "        # Generate realistic mock data\n",
    "        for task_type, tasks in all_tasks.items():\n",
    "            task = tasks[0]\n",
    "            for framework in frameworks:\n",
    "                for run in range(runs_per_task):\n",
    "                    # Realistic mock metrics\n",
    "                    base_scores = {'react': 80, 'cot': 75, 'tot': 85}\n",
    "                    base_times = {'react': 2.5, 'cot': 1.8, 'tot': 3.2}\n",
    "                    base_tokens = {'react': 850, 'cot': 650, 'tot': 1200}\n",
    "                    \n",
    "                    score = base_scores[framework] + (run * 2) + (hash(task.id) % 10 - 5)\n",
    "                    \n",
    "                    result = ExperimentResult(\n",
    "                        timestamp=datetime.now().isoformat(),\n",
    "                        framework=framework,\n",
    "                        task_id=task.id,\n",
    "                        task_type=task_type,\n",
    "                        run_number=run + 1,\n",
    "                        success=True,\n",
    "                        tokens_used=base_tokens[framework] + (run * 50),\n",
    "                        execution_time=base_times[framework] + (run * 0.3),\n",
    "                        memory_usage=8.5 + (run * 0.2),\n",
    "                        reasoning_steps=5 + run,\n",
    "                        final_answer=f\"Mock {framework.upper()} solution for {task.title} (Run {run+1}): This is a comprehensive response demonstrating the framework's approach...\",\n",
    "                        intermediate_steps=[f\"Step {i+1}: {framework} reasoning step\" for i in range(3+run)],\n",
    "                        validation_score=max(60, min(100, score)),\n",
    "                        validation_passed=score >= 70,\n",
    "                        validation_issues=[] if score >= 70 else [\"Mock validation issue\"],\n",
    "                        error_message=None\n",
    "                    )\n",
    "                    results.append(result)\n",
    "    else:\n",
    "        print(\"🔴 LIVE MODE: Making real API calls\")\n",
    "        # Import and use the real experiment runner\n",
    "        from run_experiment import ExperimentRunner\n",
    "        runner = ExperimentRunner(model_name=MODEL, runs_per_task=runs_per_task)\n",
    "        results = runner.run_framework_comparison()\n",
    "    \n",
    "    print(f\"\\n✅ Experiment completed: {len(results)} results\")\n",
    "    return results\n",
    "\n",
    "# Run the experiment\n",
    "experiment_results = run_experiment(demo_mode=DEMO_MODE)\n",
    "\n",
    "# 2. Performance Metrics Analysis\n",
    "if df is not None:\n",
    "    # Create radar chart for framework comparison\n",
    "    frameworks = df['framework'].unique()\n",
    "    metrics = ['validation_score', 'execution_time', 'tokens_used', 'reasoning_steps']\n",
    "    \n",
    "    # Normalize metrics for radar chart (0-100 scale)\n",
    "    df_normalized = df.copy()\n",
    "    df_normalized['execution_time_norm'] = 100 - (df['execution_time'] / df['execution_time'].max() * 100)  # Invert: faster = better\n",
    "    df_normalized['tokens_used_norm'] = 100 - (df['tokens_used'] / df['tokens_used'].max() * 100)  # Invert: fewer = better\n",
    "    df_normalized['reasoning_steps_norm'] = df['reasoning_steps'] / df['reasoning_steps'].max() * 100  # More steps can be better\n",
    "    \n",
    "    # Create radar chart\n",
    "    fig = go.Figure()\n",
    "    \n",
    "    for framework in frameworks:\n",
    "        subset = df_normalized[df_normalized['framework'] == framework]\n",
    "        values = [\n",
    "            subset['validation_score'].mean(),\n",
    "            subset['execution_time_norm'].mean(),\n",
    "            subset['tokens_used_norm'].mean(),\n",
    "            subset['reasoning_steps_norm'].mean()\n",
    "        ]\n",
    "        \n",
    "        fig.add_trace(go.Scatterpolar(\n",
    "            r=values + [values[0]],  # Close the polygon\n",
    "            theta=['Quality Score', 'Speed', 'Efficiency', 'Complexity'] + ['Quality Score'],\n",
    "            fill='toself',\n",
    "            name=framework.upper(),\n",
    "            line=dict(width=2)\n",
    "        ))\n",
    "    \n",
    "    fig.update_layout(\n",
    "        polar=dict(\n",
    "            radialaxis=dict(\n",
    "                visible=True,\n",
    "                range=[0, 100]\n",
    "            )),\n",
    "        showlegend=True,\n",
    "        title=\"Framework Performance Radar Chart<br><sub>Higher values = Better performance</sub>\",\n",
    "        height=500\n",
    "    )\n",
    "    \n",
    "    fig.show()\n",
    "    \n",
    "    # Create detailed metrics comparison\n",
    "    print(\"\\n📊 DETAILED PERFORMANCE METRICS\")\n",
    "    print(\"=\" * 50)\n",
    "    \n",
    "    metrics_summary = df.groupby('framework').agg({\n",
    "        'validation_score': 'mean',\n",
    "        'execution_time': 'mean', \n",
    "        'tokens_used': 'mean',\n",
    "        'reasoning_steps': 'mean',\n",
    "        'validation_passed': 'mean'\n",
    "    }).round(2)\n",
    "    \n",
    "    # Add efficiency score (quality/time ratio)\n",
    "    metrics_summary['efficiency'] = (metrics_summary['validation_score'] / metrics_summary['execution_time']).round(2)\n",
    "    \n",
    "    display(metrics_summary.style.highlight_max(axis=0, subset=['validation_score', 'efficiency', 'validation_passed'])\n",
    "                                .highlight_min(axis=0, subset=['execution_time', 'tokens_used'])\n",
    "                                .format({'validation_passed': '{:.1%}'}))\n",
    "    \n",
    "else:\n",
    "    print(\"❌ No data available for performance analysis\")"
   ]
  },
  {
   "cell_type": "markdown",
   "id": "920e28bf",
   "metadata": {},
   "source": [
    "### 📝 Task-Specific Performance Analysis"
   ]
  },
  {
   "cell_type": "code",
   "execution_count": null,
   "id": "2e3e48e9",
   "metadata": {},
   "outputs": [
    {
     "name": "stdout",
     "output_type": "stream",
     "text": [
      "📊 RESULTS SUMMARY\n",
      "==================================================\n",
      "Total experiments: 27\n",
      "Success rate: 100.0%\n",
      "Average score: 82.3/100\n",
      "Average time: 2.8s\n",
      "Average tokens: 950\n"
     ]
    },
    {
     "data": {
      "image/png": "[encoded data removed]",
      "text/plain": [
       "<Figure size 1500x1000 with 4 Axes>"
      ]
     },
     "metadata": {},
     "output_type": "display_data"
    },
    {
     "name": "stdout",
     "output_type": "stream",
     "text": [
      "\n",
      "🏆 BEST FRAMEWORK PER TASK\n",
      "========================================\n",
      "\n",
      "📝 Code Generation:\n",
      "   🥇 Winner: TOT\n",
      "   📊 Score: 88.0/100\n",
      "   ⏱️ Time: 3.80s\n",
      "   🔤 Tokens: 1300\n",
      "   📈 All Frameworks:\n",
      "      cot: 76.0 pts (100.0% success)\n",
      "      react: 81.0 pts (100.0% success)\n",
      "      tot: 86.0 pts (100.0% success)\n",
      "\n",
      "📝 Itinerary Planning:\n",
      "   🥇 Winner: TOT\n",
      "   📊 Score: 91.0/100\n",
      "   ⏱️ Time: 3.80s\n",
      "   🔤 Tokens: 1300\n",
      "   📈 All Frameworks:\n",
      "      cot: 79.0 pts (100.0% success)\n",
      "      react: 84.0 pts (100.0% success)\n",
      "      tot: 89.0 pts (100.0% success)\n",
      "\n",
      "📝 Procedure Structuring:\n",
      "   🥇 Winner: TOT\n",
      "   📊 Score: 89.0/100\n",
      "   ⏱️ Time: 3.80s\n",
      "   🔤 Tokens: 1300\n",
      "   📈 All Frameworks:\n",
      "      cot: 77.0 pts (100.0% success)\n",
      "      react: 82.0 pts (100.0% success)\n",
      "      tot: 87.0 pts (100.0% success)\n"
     ]
    }
   ],
   "source": [
    "# Convert to DataFrame for analysis\n",
    "df = pd.DataFrame([{\n",
    "    'framework': r.framework,\n",
    "    'task_type': r.task_type,\n",
    "    'task_id': r.task_id,\n",
    "    'run': r.run_number,\n",
    "    'success': r.success,\n",
    "    'score': r.validation_score,\n",
    "    'time': r.execution_time,\n",
    "    'tokens': r.tokens_used,\n",
    "    'steps': r.reasoning_steps\n",
    "} for r in experiment_results])\n",
    "\n",
    "print(\"📊 RESULTS SUMMARY\")\n",
    "print(\"=\" * 50)\n",
    "print(f\"Total experiments: {len(df)}\")\n",
    "print(f\"Success rate: {df['success'].mean():.1%}\")\n",
    "print(f\"Average score: {df['score'].mean():.1f}/100\")\n",
    "print(f\"Average time: {df['time'].mean():.1f}s\")\n",
    "print(f\"Average tokens: {df['tokens'].mean():.0f}\")\n",
    "\n",
    "df.head()\n",
    "\n",
    "# 3. Task-Specific Analysis\n",
    "if df is not None:\n",
    "    # Create task-specific comparison charts\n",
    "    fig, axes = plt.subplots(2, 2, figsize=(15, 10))\n",
    "    fig.suptitle('Task-Specific Framework Performance', fontsize=16, fontweight='bold')\n",
    "    \n",
    "    # Get framework order and colors\n",
    "    framework_order = ['react', 'cot', 'tot']\n",
    "    colors = [FRAMEWORK_COLORS[fw] for fw in framework_order]\n",
    "    \n",
    "    # 1. Score comparison by task\n",
    "    task_scores = df.pivot_table(values='score', index='task_type', columns='framework', aggfunc='mean')\n",
    "    # Reorder columns to match framework order\n",
    "    task_scores = task_scores.reindex(columns=framework_order)\n",
    "    task_scores.plot(kind='bar', ax=axes[0,0], rot=45, width=0.8, color=colors)\n",
    "    axes[0,0].set_title('Average Validation Scores by Task')\n",
    "    axes[0,0].set_ylabel('Validation Score')\n",
    "    axes[0,0].legend(title='Framework')\n",
    "    axes[0,0].grid(True, alpha=0.3)\n",
    "    \n",
    "    # 2. Execution time by task\n",
    "    task_times = df.pivot_table(values='time', index='task_type', columns='framework', aggfunc='mean')\n",
    "    task_times = task_times.reindex(columns=framework_order)\n",
    "    task_times.plot(kind='bar', ax=axes[0,1], rot=45, width=0.8, color=colors)\n",
    "    axes[0,1].set_title('Average Execution Time by Task')\n",
    "    axes[0,1].set_ylabel('Execution Time (s)')\n",
    "    axes[0,1].legend(title='Framework')\n",
    "    axes[0,1].grid(True, alpha=0.3)\n",
    "    \n",
    "    # 3. Success rate by task\n",
    "    task_success = df.pivot_table(values='success', index='task_type', columns='framework', aggfunc='mean')\n",
    "    task_success = task_success.reindex(columns=framework_order)\n",
    "    task_success.plot(kind='bar', ax=axes[1,0], rot=45, width=0.8, color=colors)\n",
    "    axes[1,0].set_title('Success Rate by Task')\n",
    "    axes[1,0].set_ylabel('Success Rate')\n",
    "    axes[1,0].legend(title='Framework')\n",
    "    axes[1,0].grid(True, alpha=0.3)\n",
    "    \n",
    "    # 4. Token usage by task\n",
    "    task_tokens = df.pivot_table(values='tokens', index='task_type', columns='framework', aggfunc='mean')\n",
    "    task_tokens = task_tokens.reindex(columns=framework_order)\n",
    "    task_tokens.plot(kind='bar', ax=axes[1,1], rot=45, width=0.8, color=colors)\n",
    "    axes[1,1].set_title('Average Token Usage by Task')\n",
    "    axes[1,1].set_ylabel('Tokens Used')\n",
    "    axes[1,1].legend(title='Framework')\n",
    "    axes[1,1].grid(True, alpha=0.3)\n",
    "    \n",
    "    plt.tight_layout()\n",
    "    plt.show()\n",
    "    \n",
    "    # Best framework per task analysis\n",
    "    print(\"\\n🏆 BEST FRAMEWORK PER TASK\")\n",
    "    print(\"=\" * 40)\n",
    "    \n",
    "    for task in df['task_type'].unique():\n",
    "        task_data = df[df['task_type'] == task]\n",
    "        best_framework = task_data.loc[task_data['score'].idxmax()]\n",
    "        \n",
    "        print(f\"\\n📝 {task.replace('_', ' ').title()}:\")\n",
    "        print(f\"   🥇 Winner: {best_framework['framework'].upper()}\")\n",
    "        print(f\"   📊 Score: {best_framework['score']:.1f}/100\")\n",
    "        print(f\"   ⏱️ Time: {best_framework['time']:.2f}s\")\n",
    "        print(f\"   🔤 Tokens: {best_framework['tokens']:.0f}\")\n",
    "        \n",
    "        # Show all framework performance for this task\n",
    "        task_summary = task_data.groupby('framework').agg({\n",
    "            'score': 'mean',\n",
    "            'time': 'mean',\n",
    "            'success': 'mean'\n",
    "        }).round(2)\n",
    "        \n",
    "        print(f\"   📈 All Frameworks:\")\n",
    "        for fw, row in task_summary.iterrows():\n",
    "            print(f\"      {fw}: {row['score']:.1f} pts ({row['success']:.1%} success)\")\n",
    "            \n",
    "else:\n",
    "    print(\"❌ No data available for task-specific analysis\")"
   ]
  },
  {
   "cell_type": "code",
   "execution_count": 8,
   "id": "02b6d769",
   "metadata": {},
   "outputs": [
    {
     "name": "stdout",
     "output_type": "stream",
     "text": [
      "🏆 FRAMEWORK COMPARISON\n",
      "==================================================\n"
     ]
    },
    {
     "data": {
      "text/html": [
       "<div>\n",
       "<style scoped>\n",
       "    .dataframe tbody tr th:only-of-type {\n",
       "        vertical-align: middle;\n",
       "    }\n",
       "\n",
       "    .dataframe tbody tr th {\n",
       "        vertical-align: top;\n",
       "    }\n",
       "\n",
       "    .dataframe thead tr th {\n",
       "        text-align: left;\n",
       "    }\n",
       "\n",
       "    .dataframe thead tr:last-of-type th {\n",
       "        text-align: right;\n",
       "    }\n",
       "</style>\n",
       "<table border=\"1\" class=\"dataframe\">\n",
       "  <thead>\n",
       "    <tr>\n",
       "      <th></th>\n",
       "      <th colspan=\"2\" halign=\"left\">score</th>\n",
       "      <th>time</th>\n",
       "      <th>tokens</th>\n",
       "      <th>success</th>\n",
       "    </tr>\n",
       "    <tr>\n",
       "      <th></th>\n",
       "      <th>mean</th>\n",
       "      <th>std</th>\n",
       "      <th>mean</th>\n",
       "      <th>mean</th>\n",
       "      <th>mean</th>\n",
       "    </tr>\n",
       "    <tr>\n",
       "      <th>framework</th>\n",
       "      <th></th>\n",
       "      <th></th>\n",
       "      <th></th>\n",
       "      <th></th>\n",
       "      <th></th>\n",
       "    </tr>\n",
       "  </thead>\n",
       "  <tbody>\n",
       "    <tr>\n",
       "      <th>cot</th>\n",
       "      <td>77.33</td>\n",
       "      <td>2.18</td>\n",
       "      <td>2.1</td>\n",
       "      <td>700.0</td>\n",
       "      <td>1.0</td>\n",
       "    </tr>\n",
       "    <tr>\n",
       "      <th>react</th>\n",
       "      <td>82.33</td>\n",
       "      <td>2.18</td>\n",
       "      <td>2.8</td>\n",
       "      <td>900.0</td>\n",
       "      <td>1.0</td>\n",
       "    </tr>\n",
       "    <tr>\n",
       "      <th>tot</th>\n",
       "      <td>87.33</td>\n",
       "      <td>2.18</td>\n",
       "      <td>3.5</td>\n",
       "      <td>1250.0</td>\n",
       "      <td>1.0</td>\n",
       "    </tr>\n",
       "  </tbody>\n",
       "</table>\n",
       "</div>"
      ],
      "text/plain": [
       "           score       time  tokens success\n",
       "            mean   std mean    mean    mean\n",
       "framework                                  \n",
       "cot        77.33  2.18  2.1   700.0     1.0\n",
       "react      82.33  2.18  2.8   900.0     1.0\n",
       "tot        87.33  2.18  3.5  1250.0     1.0"
      ]
     },
     "execution_count": 8,
     "metadata": {},
     "output_type": "execute_result"
    }
   ],
   "source": [
    "# Framework comparison\n",
    "framework_stats = df.groupby('framework').agg({\n",
    "    'score': ['mean', 'std'],\n",
    "    'time': 'mean',\n",
    "    'tokens': 'mean',\n",
    "    'success': 'mean'\n",
    "}).round(2)\n",
    "\n",
    "print(\"🏆 FRAMEWORK COMPARISON\")\n",
    "print(\"=\" * 50)\n",
    "framework_stats"
   ]
  },
  {
   "cell_type": "code",
   "execution_count": null,
   "id": "1f0f6a79",
   "metadata": {},
   "outputs": [
    {
     "name": "stdout",
     "output_type": "stream",
     "text": [
      "📋 TASK TYPE ANALYSIS\n",
      "==================================================\n",
      "📝 RESPONSE ANALYSIS\n",
      "=========================\n"
     ]
    },
    {
     "data": {
      "image/png": "[encoded data removed]",
      "text/plain": [
       "<Figure size 1500x500 with 2 Axes>"
      ]
     },
     "metadata": {},
     "output_type": "display_data"
    },
    {
     "name": "stdout",
     "output_type": "stream",
     "text": [
      "\n",
      "🏗️ RESPONSE STRUCTURE ANALYSIS\n",
      "-----------------------------------\n"
     ]
    },
    {
     "data": {
      "text/html": [
       "<style type=\"text/css\">\n",
       "#T_33bd3_row0_col0, #T_33bd3_row0_col2, #T_33bd3_row0_col3, #T_33bd3_row0_col4, #T_33bd3_row1_col0, #T_33bd3_row2_col0, #T_33bd3_row2_col1, #T_33bd3_row2_col2 {\n",
       "  background-color: yellow;\n",
       "}\n",
       "</style>\n",
       "<table id=\"T_33bd3\">\n",
       "  <thead>\n",
       "    <tr>\n",
       "      <th class=\"blank level0\" >&nbsp;</th>\n",
       "      <th id=\"T_33bd3_level0_col0\" class=\"col_heading level0 col0\" >Code Blocks %</th>\n",
       "      <th id=\"T_33bd3_level0_col1\" class=\"col_heading level0 col1\" >Numbered Steps %</th>\n",
       "      <th id=\"T_33bd3_level0_col2\" class=\"col_heading level0 col2\" >Bullet Points %</th>\n",
       "      <th id=\"T_33bd3_level0_col3\" class=\"col_heading level0 col3\" >Avg Length</th>\n",
       "      <th id=\"T_33bd3_level0_col4\" class=\"col_heading level0 col4\" >Avg Words</th>\n",
       "    </tr>\n",
       "    <tr>\n",
       "      <th class=\"index_name level0\" >framework</th>\n",
       "      <th class=\"blank col0\" >&nbsp;</th>\n",
       "      <th class=\"blank col1\" >&nbsp;</th>\n",
       "      <th class=\"blank col2\" >&nbsp;</th>\n",
       "      <th class=\"blank col3\" >&nbsp;</th>\n",
       "      <th class=\"blank col4\" >&nbsp;</th>\n",
       "    </tr>\n",
       "  </thead>\n",
       "  <tbody>\n",
       "    <tr>\n",
       "      <th id=\"T_33bd3_level0_row0\" class=\"row_heading level0 row0\" >cot</th>\n",
       "      <td id=\"T_33bd3_row0_col0\" class=\"data row0 col0\" >33.3%</td>\n",
       "      <td id=\"T_33bd3_row0_col1\" class=\"data row0 col1\" >66.7%</td>\n",
       "      <td id=\"T_33bd3_row0_col2\" class=\"data row0 col2\" >100.0%</td>\n",
       "      <td id=\"T_33bd3_row0_col3\" class=\"data row0 col3\" >3062.222000</td>\n",
       "      <td id=\"T_33bd3_row0_col4\" class=\"data row0 col4\" >398.222000</td>\n",
       "    </tr>\n",
       "    <tr>\n",
       "      <th id=\"T_33bd3_level0_row1\" class=\"row_heading level0 row1\" >react</th>\n",
       "      <td id=\"T_33bd3_row1_col0\" class=\"data row1 col0\" >33.3%</td>\n",
       "      <td id=\"T_33bd3_row1_col1\" class=\"data row1 col1\" >66.7%</td>\n",
       "      <td id=\"T_33bd3_row1_col2\" class=\"data row1 col2\" >77.8%</td>\n",
       "      <td id=\"T_33bd3_row1_col3\" class=\"data row1 col3\" >1803.000000</td>\n",
       "      <td id=\"T_33bd3_row1_col4\" class=\"data row1 col4\" >252.111000</td>\n",
       "    </tr>\n",
       "    <tr>\n",
       "      <th id=\"T_33bd3_level0_row2\" class=\"row_heading level0 row2\" >tot</th>\n",
       "      <td id=\"T_33bd3_row2_col0\" class=\"data row2 col0\" >33.3%</td>\n",
       "      <td id=\"T_33bd3_row2_col1\" class=\"data row2 col1\" >77.8%</td>\n",
       "      <td id=\"T_33bd3_row2_col2\" class=\"data row2 col2\" >100.0%</td>\n",
       "      <td id=\"T_33bd3_row2_col3\" class=\"data row2 col3\" >2687.222000</td>\n",
       "      <td id=\"T_33bd3_row2_col4\" class=\"data row2 col4\" >367.000000</td>\n",
       "    </tr>\n",
       "  </tbody>\n",
       "</table>\n"
      ],
      "text/plain": [
       "<pandas.io.formats.style.Styler at 0x7feccaaf19d0>"
      ]
     },
     "metadata": {},
     "output_type": "display_data"
    },
    {
     "name": "stdout",
     "output_type": "stream",
     "text": [
      "\n",
      "🎯 STRUCTURE-QUALITY CORRELATIONS\n",
      "--------------------------------------\n",
      "• Has Code Blocks: 0.218\n",
      "• Has Numbered Steps: 0.122\n",
      "• Has Bullet Points: 0.982\n",
      "• Length: 0.532\n",
      "• Word Count: 0.512\n"
     ]
    }
   ],
   "source": [
    "# Task type analysis\n",
    "task_stats = df.groupby('task_type').agg({\n",
    "    'score': ['mean', 'std'],\n",
    "    'time': 'mean',\n",
    "    'tokens': 'mean',\n",
    "    'success': 'mean'\n",
    "}).round(2)\n",
    "\n",
    "print(\"📝 TASK TYPE ANALYSIS\")\n",
    "print(\"=\" * 50)\n",
    "task_stats\n",
    "\n",
    "# Get detailed response data for analysis\n",
    "if experiment_results:\n",
    "    response_stats = []\n",
    "    for result in experiment_results:\n",
    "        final_answer = result.final_answer\n",
    "        if final_answer:\n",
    "            response_stats.append({\n",
    "                'framework': result.framework,\n",
    "                'task_type': result.task_type,\n",
    "                'score': result.validation_score,\n",
    "                'length': len(final_answer),\n",
    "                'word_count': len(final_answer.split()),\n",
    "                'line_count': len(final_answer.split('\\n')),\n",
    "                'has_code_blocks': bool(re.search(r'```', final_answer)),\n",
    "                'has_numbered_steps': bool(re.search(r'\\d+\\.', final_answer)),\n",
    "                'has_bullet_points': bool(re.search(r'[•\\-\\*]', final_answer))\n",
    "            })\n",
    "    \n",
    "    response_df = pd.DataFrame(response_stats)\n",
    "    \n",
    "    # Response length analysis\n",
    "    fig, axes = plt.subplots(1, 2, figsize=(15, 5))\n",
    "    \n",
    "    # Box plot of response lengths by framework with custom colors\n",
    "    frameworks_in_data = response_df['framework'].unique()\n",
    "    colors = [FRAMEWORK_COLORS.get(fw, '#888888') for fw in frameworks_in_data]\n",
    "    \n",
    "    response_df.boxplot(column='length', by='framework', ax=axes[0])\n",
    "    axes[0].set_title('Response Length Distribution by Framework')\n",
    "    axes[0].set_xlabel('Framework')\n",
    "    axes[0].set_ylabel('Response Length (characters)')\n",
    "    axes[0].grid(True, alpha=0.3)\n",
    "    \n",
    "    # Word count vs score scatter with custom colors\n",
    "    for framework in response_df['framework'].unique():\n",
    "        subset = response_df[response_df['framework'] == framework]\n",
    "        axes[1].scatter(subset['word_count'], subset['score'], \n",
    "                       label=framework, alpha=0.7, s=60,\n",
    "                       color=FRAMEWORK_COLORS.get(framework, '#888888'))\n",
    "    \n",
    "    axes[1].set_xlabel('Word Count')\n",
    "    axes[1].set_ylabel('Validation Score')\n",
    "    axes[1].set_title('Response Length vs Quality Score')\n",
    "    axes[1].legend()\n",
    "    axes[1].grid(True, alpha=0.3)\n",
    "    \n",
    "    plt.tight_layout()\n",
    "    plt.show()\n",
    "    \n",
    "    # Structural analysis\n",
    "    print(\"\\n🏗️ RESPONSE STRUCTURE ANALYSIS\")\n",
    "    print(\"-\" * 35)\n",
    "    \n",
    "    structure_analysis = response_df.groupby('framework').agg({\n",
    "        'has_code_blocks': 'mean',\n",
    "        'has_numbered_steps': 'mean', \n",
    "        'has_bullet_points': 'mean',\n",
    "        'length': 'mean',\n",
    "        'word_count': 'mean'\n",
    "    }).round(3)\n",
    "    \n",
    "    structure_analysis.columns = ['Code Blocks %', 'Numbered Steps %', 'Bullet Points %', 'Avg Length', 'Avg Words']\n",
    "    \n",
    "    display(structure_analysis.style.highlight_max(axis=0)\n",
    "                                  .format({'Code Blocks %': '{:.1%}', \n",
    "                                          'Numbered Steps %': '{:.1%}',\n",
    "                                          'Bullet Points %': '{:.1%}'}))\n",
    "    \n",
    "    # Quality vs structure correlation\n",
    "    print(\"\\n🎯 STRUCTURE-QUALITY CORRELATIONS\")\n",
    "    print(\"-\" * 38)\n",
    "    \n",
    "    structure_features = ['has_code_blocks', 'has_numbered_steps', 'has_bullet_points', 'length', 'word_count']\n",
    "    for feature in structure_features:\n",
    "        corr = response_df[feature].corr(response_df['score'])\n",
    "        print(f\"• {feature.replace('_', ' ').title()}: {corr:.3f}\")\n",
    "        \n",
    "else:\n",
    "    print(\"❌ Detailed response data not available\")"
   ]
  },
  {
   "cell_type": "code",
   "execution_count": null,
   "id": "4a7ea43e",
   "metadata": {},
   "outputs": [
    {
     "data": {
      "image/png": "[encoded data removed]",
      "text/plain": [
       "<Figure size 1200x1000 with 5 Axes>"
      ]
     },
     "metadata": {},
     "output_type": "display_data"
    },
    {
     "data": {
      "application/vnd.plotly.v1+json": {
       "config": {
        "plotlyServerURL": "https://plot.ly"
       },
       "data": [
        {
         "marker": {
          "color": "lightblue"
         },
         "name": "Avg Score",
         "orientation": "h",
         "type": "bar",
         "x": {
          "bdata": "VVVVVVVVU0BVVVVVVZVUQFVVVVVV1VVA",
          "dtype": "f8"
         },
         "xaxis": "x",
         "y": [
          "cot",
          "react",
          "tot"
         ],
         "yaxis": "y"
        },
        {
         "marker": {
          "color": "lightcoral"
         },
         "name": "Task Difficulty",
         "type": "bar",
         "x": [
          "code_generation",
          "procedure_structuring",
          "itinerary_planning"
         ],
         "xaxis": "x2",
         "y": {
          "bdata": "AAAAAABAVEAAAAAAAIBUQAAAAAAAAFVA",
          "dtype": "f8"
         },
         "yaxis": "y2"
        },
        {
         "marker": {
          "color": {
           "bdata": "AQEBAAAAAgICAQEBAAAAAgICAQEBAAAAAgIC",
           "dtype": "i1"
          },
          "colorscale": [
           [
            0,
            "#440154"
           ],
           [
            0.1111111111111111,
            "#482878"
           ],
           [
            0.2222222222222222,
            "#3e4989"
           ],
           [
            0.3333333333333333,
            "#31688e"
           ],
           [
            0.4444444444444444,
            "#26828e"
           ],
           [
            0.5555555555555556,
            "#1f9e89"
           ],
           [
            0.6666666666666666,
            "#35b779"
           ],
           [
            0.7777777777777778,
            "#6ece58"
           ],
           [
            0.8888888888888888,
            "#b5de2b"
           ],
           [
            1,
            "#fde725"
           ]
          ],
          "size": 10
         },
         "mode": "markers",
         "name": "Efficiency",
         "type": "scatter",
         "x": {
          "bdata": "AAAAAAAABEBmZmZmZmYGQM3MzMzMzAhAzczMzMzM/D/NzMzMzMwAQDMzMzMzMwNAmpmZmZmZCUAAAAAAAAAMQGdmZmZmZg5AAAAAAAAABEBmZmZmZmYGQM3MzMzMzAhAzczMzMzM/D/NzMzMzMwAQDMzMzMzMwNAmpmZmZmZCUAAAAAAAAAMQGdmZmZmZg5AAAAAAAAABEBmZmZmZmYGQM3MzMzMzAhAzczMzMzM/D/NzMzMzMwAQDMzMzMzMwNAmpmZmZmZCUAAAAAAAAAMQGdmZmZmZg5A",
          "dtype": "f8"
         },
         "xaxis": "x3",
         "y": {
          "bdata": "T1FTSkxOVFZYUlRWTU9RV1lbUFJUS01PVVdZ",
          "dtype": "i1"
         },
         "yaxis": "y3"
        },
        {
         "box": {
          "visible": true
         },
         "meanline": {
          "visible": true
         },
         "name": "react",
         "type": "violin",
         "xaxis": "x4",
         "y": {
          "bdata": "T1FTUlRWUFJU",
          "dtype": "i1"
         },
         "yaxis": "y4"
        },
        {
         "box": {
          "visible": true
         },
         "meanline": {
          "visible": true
         },
         "name": "cot",
         "type": "violin",
         "xaxis": "x4",
         "y": {
          "bdata": "SkxOTU9RS01P",
          "dtype": "i1"
         },
         "yaxis": "y4"
        },
        {
         "box": {
          "visible": true
         },
         "meanline": {
          "visible": true
         },
         "name": "tot",
         "type": "violin",
         "xaxis": "x4",
         "y": {
          "bdata": "VFZYV1lbVVdZ",
          "dtype": "i1"
         },
         "yaxis": "y4"
        },
        {
         "marker": {
          "opacity": 0.7,
          "size": 8
         },
         "mode": "markers",
         "name": "Time vs Quality",
         "text": [
          "react",
          "react",
          "react",
          "cot",
          "cot",
          "cot",
          "tot",
          "tot",
          "tot",
          "react",
          "react",
          "react",
          "cot",
          "cot",
          "cot",
          "tot",
          "tot",
          "tot",
          "react",
          "react",
          "react",
          "cot",
          "cot",
          "cot",
          "tot",
          "tot",
          "tot"
         ],
         "type": "scatter",
         "x": {
          "bdata": "AAAAAAAABEBmZmZmZmYGQM3MzMzMzAhAzczMzMzM/D/NzMzMzMwAQDMzMzMzMwNAmpmZmZmZCUAAAAAAAAAMQGdmZmZmZg5AAAAAAAAABEBmZmZmZmYGQM3MzMzMzAhAzczMzMzM/D/NzMzMzMwAQDMzMzMzMwNAmpmZmZmZCUAAAAAAAAAMQGdmZmZmZg5AAAAAAAAABEBmZmZmZmYGQM3MzMzMzAhAzczMzMzM/D/NzMzMzMwAQDMzMzMzMwNAmpmZmZmZCUAAAAAAAAAMQGdmZmZmZg5A",
          "dtype": "f8"
         },
         "xaxis": "x5",
         "y": {
          "bdata": "T1FTSkxOVFZYUlRWTU9RV1lbUFJUS01PVVdZ",
          "dtype": "i1"
         },
         "yaxis": "y5"
        },
        {
         "marker": {
          "color": "lightgreen"
         },
         "name": "Avg Tokens",
         "type": "bar",
         "x": [
          "cot",
          "react",
          "tot"
         ],
         "xaxis": "x6",
         "y": {
          "bdata": "AAAAAADghUAAAAAAACCMQAAAAAAAiJNA",
          "dtype": "f8"
         },
         "yaxis": "y6"
        },
        {
         "marker": {
          "color": "gold"
         },
         "name": "Success Rate %",
         "type": "bar",
         "x": [
          "cot",
          "react",
          "tot"
         ],
         "xaxis": "x7",
         "y": {
          "bdata": "AAAAAAAAWUAAAAAAAABZQAAAAAAAAFlA",
          "dtype": "f8"
         },
         "yaxis": "y7"
        },
        {
         "marker": {
          "color": "plum"
         },
         "name": "Consistency (lower=better)",
         "type": "bar",
         "x": [
          "cot",
          "react",
          "tot"
         ],
         "xaxis": "x8",
         "y": {
          "bdata": "+U1kNINvAUD5TWQ0g28BQPlNZDSDbwFA",
          "dtype": "f8"
         },
         "yaxis": "y8"
        },
        {
         "cells": {
          "values": [
           [
            "cot",
            "react",
            "tot"
           ],
           [
            77.33,
            82.33,
            87.33
           ],
           [
            2.18,
            2.18,
            2.18
           ],
           [
            2.1,
            2.8,
            3.5
           ],
           [
            1,
            1,
            1
           ]
          ]
         },
         "domain": {
          "x": [
           0.7111111111111111,
           1
          ],
          "y": [
           0,
           0.22222222222222224
          ]
         },
         "header": {
          "values": [
           "Framework",
           "Avg Score",
           "Std Score",
           "Avg Time",
           "Success Rate"
          ]
         },
         "type": "table"
        }
       ],
       "layout": {
        "annotations": [
         {
          "font": {
           "size": 16
          },
          "showarrow": false,
          "text": "Framework Ranking",
          "x": 0.14444444444444446,
          "xanchor": "center",
          "xref": "paper",
          "y": 1,
          "yanchor": "bottom",
          "yref": "paper"
         },
         {
          "font": {
           "size": 16
          },
          "showarrow": false,
          "text": "Task Difficulty",
          "x": 0.5,
          "xanchor": "center",
          "xref": "paper",
          "y": 1,
          "yanchor": "bottom",
          "yref": "paper"
         },
         {
          "font": {
           "size": 16
          },
          "showarrow": false,
          "text": "Efficiency Matrix",
          "x": 0.8555555555555556,
          "xanchor": "center",
          "xref": "paper",
          "y": 1,
          "yanchor": "bottom",
          "yref": "paper"
         },
         {
          "font": {
           "size": 16
          },
          "showarrow": false,
          "text": "Score Distribution",
          "x": 0.14444444444444446,
          "xanchor": "center",
          "xref": "paper",
          "y": 0.6111111111111112,
          "yanchor": "bottom",
          "yref": "paper"
         },
         {
          "font": {
           "size": 16
          },
          "showarrow": false,
          "text": "Time vs Quality",
          "x": 0.5,
          "xanchor": "center",
          "xref": "paper",
          "y": 0.6111111111111112,
          "yanchor": "bottom",
          "yref": "paper"
         },
         {
          "font": {
           "size": 16
          },
          "showarrow": false,
          "text": "Resource Usage",
          "x": 0.8555555555555556,
          "xanchor": "center",
          "xref": "paper",
          "y": 0.6111111111111112,
          "yanchor": "bottom",
          "yref": "paper"
         },
         {
          "font": {
           "size": 16
          },
          "showarrow": false,
          "text": "Success Rates",
          "x": 0.14444444444444446,
          "xanchor": "center",
          "xref": "paper",
          "y": 0.22222222222222224,
          "yanchor": "bottom",
          "yref": "paper"
         },
         {
          "font": {
           "size": 16
          },
          "showarrow": false,
          "text": "Framework Consistency",
          "x": 0.5,
          "xanchor": "center",
          "xref": "paper",
          "y": 0.22222222222222224,
          "yanchor": "bottom",
          "yref": "paper"
         },
         {
          "font": {
           "size": 16
          },
          "showarrow": false,
          "text": "Overall Summary",
          "x": 0.8555555555555556,
          "xanchor": "center",
          "xref": "paper",
          "y": 0.22222222222222224,
          "yanchor": "bottom",
          "yref": "paper"
         }
        ],
        "height": 1200,
        "showlegend": false,
        "template": {
         "data": {
          "bar": [
           {
            "error_x": {
             "color": "#2a3f5f"
            },
            "error_y": {
             "color": "#2a3f5f"
            },
            "marker": {
             "line": {
              "color": "#E5ECF6",
              "width": 0.5
             },
             "pattern": {
              "fillmode": "overlay",
              "size": 10,
              "solidity": 0.2
             }
            },
            "type": "bar"
           }
          ],
          "barpolar": [
           {
            "marker": {
             "line": {
              "color": "#E5ECF6",
              "width": 0.5
             },
             "pattern": {
              "fillmode": "overlay",
              "size": 10,
              "solidity": 0.2
             }
            },
            "type": "barpolar"
           }
          ],
          "carpet": [
           {
            "aaxis": {
             "endlinecolor": "#2a3f5f",
             "gridcolor": "white",
             "linecolor": "white",
             "minorgridcolor": "white",
             "startlinecolor": "#2a3f5f"
            },
            "baxis": {
             "endlinecolor": "#2a3f5f",
             "gridcolor": "white",
             "linecolor": "white",
             "minorgridcolor": "white",
             "startlinecolor": "#2a3f5f"
            },
            "type": "carpet"
           }
          ],
          "choropleth": [
           {
            "colorbar": {
             "outlinewidth": 0,
             "ticks": ""
            },
            "type": "choropleth"
           }
          ],
          "contour": [
           {
            "colorbar": {
             "outlinewidth": 0,
             "ticks": ""
            },
            "colorscale": [
             [
              0,
              "#0d0887"
             ],
             [
              0.1111111111111111,
              "#46039f"
             ],
             [
              0.2222222222222222,
              "#7201a8"
             ],
             [
              0.3333333333333333,
              "#9c179e"
             ],
             [
              0.4444444444444444,
              "#bd3786"
             ],
             [
              0.5555555555555556,
              "#d8576b"
             ],
             [
              0.6666666666666666,
              "#ed7953"
             ],
             [
              0.7777777777777778,
              "#fb9f3a"
             ],
             [
              0.8888888888888888,
              "#fdca26"
             ],
             [
              1,
              "#f0f921"
             ]
            ],
            "type": "contour"
           }
          ],
          "contourcarpet": [
           {
            "colorbar": {
             "outlinewidth": 0,
             "ticks": ""
            },
            "type": "contourcarpet"
           }
          ],
          "heatmap": [
           {
            "colorbar": {
             "outlinewidth": 0,
             "ticks": ""
            },
            "colorscale": [
             [
              0,
              "#0d0887"
             ],
             [
              0.1111111111111111,
              "#46039f"
             ],
             [
              0.2222222222222222,
              "#7201a8"
             ],
             [
              0.3333333333333333,
              "#9c179e"
             ],
             [
              0.4444444444444444,
              "#bd3786"
             ],
             [
              0.5555555555555556,
              "#d8576b"
             ],
             [
              0.6666666666666666,
              "#ed7953"
             ],
             [
              0.7777777777777778,
              "#fb9f3a"
             ],
             [
              0.8888888888888888,
              "#fdca26"
             ],
             [
              1,
              "#f0f921"
             ]
            ],
            "type": "heatmap"
           }
          ],
          "histogram": [
           {
            "marker": {
             "pattern": {
              "fillmode": "overlay",
              "size": 10,
              "solidity": 0.2
             }
            },
            "type": "histogram"
           }
          ],
          "histogram2d": [
           {
            "colorbar": {
             "outlinewidth": 0,
             "ticks": ""
            },
            "colorscale": [
             [
              0,
              "#0d0887"
             ],
             [
              0.1111111111111111,
              "#46039f"
             ],
             [
              0.2222222222222222,
              "#7201a8"
             ],
             [
              0.3333333333333333,
              "#9c179e"
             ],
             [
              0.4444444444444444,
              "#bd3786"
             ],
             [
              0.5555555555555556,
              "#d8576b"
             ],
             [
              0.6666666666666666,
              "#ed7953"
             ],
             [
              0.7777777777777778,
              "#fb9f3a"
             ],
             [
              0.8888888888888888,
              "#fdca26"
             ],
             [
              1,
              "#f0f921"
             ]
            ],
            "type": "histogram2d"
           }
          ],
          "histogram2dcontour": [
           {
            "colorbar": {
             "outlinewidth": 0,
             "ticks": ""
            },
            "colorscale": [
             [
              0,
              "#0d0887"
             ],
             [
              0.1111111111111111,
              "#46039f"
             ],
             [
              0.2222222222222222,
              "#7201a8"
             ],
             [
              0.3333333333333333,
              "#9c179e"
             ],
             [
              0.4444444444444444,
              "#bd3786"
             ],
             [
              0.5555555555555556,
              "#d8576b"
             ],
             [
              0.6666666666666666,
              "#ed7953"
             ],
             [
              0.7777777777777778,
              "#fb9f3a"
             ],
             [
              0.8888888888888888,
              "#fdca26"
             ],
             [
              1,
              "#f0f921"
             ]
            ],
            "type": "histogram2dcontour"
           }
          ],
          "mesh3d": [
           {
            "colorbar": {
             "outlinewidth": 0,
             "ticks": ""
            },
            "type": "mesh3d"
           }
          ],
          "parcoords": [
           {
            "line": {
             "colorbar": {
              "outlinewidth": 0,
              "ticks": ""
             }
            },
            "type": "parcoords"
           }
          ],
          "pie": [
           {
            "automargin": true,
            "type": "pie"
           }
          ],
          "scatter": [
           {
            "fillpattern": {
             "fillmode": "overlay",
             "size": 10,
             "solidity": 0.2
            },
            "type": "scatter"
           }
          ],
          "scatter3d": [
           {
            "line": {
             "colorbar": {
              "outlinewidth": 0,
              "ticks": ""
             }
            },
            "marker": {
             "colorbar": {
              "outlinewidth": 0,
              "ticks": ""
             }
            },
            "type": "scatter3d"
           }
          ],
          "scattercarpet": [
           {
            "marker": {
             "colorbar": {
              "outlinewidth": 0,
              "ticks": ""
             }
            },
            "type": "scattercarpet"
           }
          ],
          "scattergeo": [
           {
            "marker": {
             "colorbar": {
              "outlinewidth": 0,
              "ticks": ""
             }
            },
            "type": "scattergeo"
           }
          ],
          "scattergl": [
           {
            "marker": {
             "colorbar": {
              "outlinewidth": 0,
              "ticks": ""
             }
            },
            "type": "scattergl"
           }
          ],
          "scattermap": [
           {
            "marker": {
             "colorbar": {
              "outlinewidth": 0,
              "ticks": ""
             }
            },
            "type": "scattermap"
           }
          ],
          "scattermapbox": [
           {
            "marker": {
             "colorbar": {
              "outlinewidth": 0,
              "ticks": ""
             }
            },
            "type": "scattermapbox"
           }
          ],
          "scatterpolar": [
           {
            "marker": {
             "colorbar": {
              "outlinewidth": 0,
              "ticks": ""
             }
            },
            "type": "scatterpolar"
           }
          ],
          "scatterpolargl": [
           {
            "marker": {
             "colorbar": {
              "outlinewidth": 0,
              "ticks": ""
             }
            },
            "type": "scatterpolargl"
           }
          ],
          "scatterternary": [
           {
            "marker": {
             "colorbar": {
              "outlinewidth": 0,
              "ticks": ""
             }
            },
            "type": "scatterternary"
           }
          ],
          "surface": [
           {
            "colorbar": {
             "outlinewidth": 0,
             "ticks": ""
            },
            "colorscale": [
             [
              0,
              "#0d0887"
             ],
             [
              0.1111111111111111,
              "#46039f"
             ],
             [
              0.2222222222222222,
              "#7201a8"
             ],
             [
              0.3333333333333333,
              "#9c179e"
             ],
             [
              0.4444444444444444,
              "#bd3786"
             ],
             [
              0.5555555555555556,
              "#d8576b"
             ],
             [
              0.6666666666666666,
              "#ed7953"
             ],
             [
              0.7777777777777778,
              "#fb9f3a"
             ],
             [
              0.8888888888888888,
              "#fdca26"
             ],
             [
              1,
              "#f0f921"
             ]
            ],
            "type": "surface"
           }
          ],
          "table": [
           {
            "cells": {
             "fill": {
              "color": "#EBF0F8"
             },
             "line": {
              "color": "white"
             }
            },
            "header": {
             "fill": {
              "color": "#C8D4E3"
             },
             "line": {
              "color": "white"
             }
            },
            "type": "table"
           }
          ]
         },
         "layout": {
          "annotationdefaults": {
           "arrowcolor": "#2a3f5f",
           "arrowhead": 0,
           "arrowwidth": 1
          },
          "autotypenumbers": "strict",
          "coloraxis": {
           "colorbar": {
            "outlinewidth": 0,
            "ticks": ""
           }
          },
          "colorscale": {
           "diverging": [
            [
             0,
             "#8e0152"
            ],
            [
             0.1,
             "#c51b7d"
            ],
            [
             0.2,
             "#de77ae"
            ],
            [
             0.3,
             "#f1b6da"
            ],
            [
             0.4,
             "#fde0ef"
            ],
            [
             0.5,
             "#f7f7f7"
            ],
            [
             0.6,
             "#e6f5d0"
            ],
            [
             0.7,
             "#b8e186"
            ],
            [
             0.8,
             "#7fbc41"
            ],
            [
             0.9,
             "#4d9221"
            ],
            [
             1,
             "#276419"
            ]
           ],
           "sequential": [
            [
             0,
             "#0d0887"
            ],
            [
             0.1111111111111111,
             "#46039f"
            ],
            [
             0.2222222222222222,
             "#7201a8"
            ],
            [
             0.3333333333333333,
             "#9c179e"
            ],
            [
             0.4444444444444444,
             "#bd3786"
            ],
            [
             0.5555555555555556,
             "#d8576b"
            ],
            [
             0.6666666666666666,
             "#ed7953"
            ],
            [
             0.7777777777777778,
             "#fb9f3a"
            ],
            [
             0.8888888888888888,
             "#fdca26"
            ],
            [
             1,
             "#f0f921"
            ]
           ],
           "sequentialminus": [
            [
             0,
             "#0d0887"
            ],
            [
             0.1111111111111111,
             "#46039f"
            ],
            [
             0.2222222222222222,
             "#7201a8"
            ],
            [
             0.3333333333333333,
             "#9c179e"
            ],
            [
             0.4444444444444444,
             "#bd3786"
            ],
            [
             0.5555555555555556,
             "#d8576b"
            ],
            [
             0.6666666666666666,
             "#ed7953"
            ],
            [
             0.7777777777777778,
             "#fb9f3a"
            ],
            [
             0.8888888888888888,
             "#fdca26"
            ],
            [
             1,
             "#f0f921"
            ]
           ]
          },
          "colorway": [
           "#636efa",
           "#EF553B",
           "#00cc96",
           "#ab63fa",
           "#FFA15A",
           "#19d3f3",
           "#FF6692",
           "#B6E880",
           "#FF97FF",
           "#FECB52"
          ],
          "font": {
           "color": "#2a3f5f"
          },
          "geo": {
           "bgcolor": "white",
           "lakecolor": "white",
           "landcolor": "#E5ECF6",
           "showlakes": true,
           "showland": true,
           "subunitcolor": "white"
          },
          "hoverlabel": {
           "align": "left"
          },
          "hovermode": "closest",
          "mapbox": {
           "style": "light"
          },
          "paper_bgcolor": "white",
          "plot_bgcolor": "#E5ECF6",
          "polar": {
           "angularaxis": {
            "gridcolor": "white",
            "linecolor": "white",
            "ticks": ""
           },
           "bgcolor": "#E5ECF6",
           "radialaxis": {
            "gridcolor": "white",
            "linecolor": "white",
            "ticks": ""
           }
          },
          "scene": {
           "xaxis": {
            "backgroundcolor": "#E5ECF6",
            "gridcolor": "white",
            "gridwidth": 2,
            "linecolor": "white",
            "showbackground": true,
            "ticks": "",
            "zerolinecolor": "white"
           },
           "yaxis": {
            "backgroundcolor": "#E5ECF6",
            "gridcolor": "white",
            "gridwidth": 2,
            "linecolor": "white",
            "showbackground": true,
            "ticks": "",
            "zerolinecolor": "white"
           },
           "zaxis": {
            "backgroundcolor": "#E5ECF6",
            "gridcolor": "white",
            "gridwidth": 2,
            "linecolor": "white",
            "showbackground": true,
            "ticks": "",
            "zerolinecolor": "white"
           }
          },
          "shapedefaults": {
           "line": {
            "color": "#2a3f5f"
           }
          },
          "ternary": {
           "aaxis": {
            "gridcolor": "white",
            "linecolor": "white",
            "ticks": ""
           },
           "baxis": {
            "gridcolor": "white",
            "linecolor": "white",
            "ticks": ""
           },
           "bgcolor": "#E5ECF6",
           "caxis": {
            "gridcolor": "white",
            "linecolor": "white",
            "ticks": ""
           }
          },
          "title": {
           "x": 0.05
          },
          "xaxis": {
           "automargin": true,
           "gridcolor": "white",
           "linecolor": "white",
           "ticks": "",
           "title": {
            "standoff": 15
           },
           "zerolinecolor": "white",
           "zerolinewidth": 2
          },
          "yaxis": {
           "automargin": true,
           "gridcolor": "white",
           "linecolor": "white",
           "ticks": "",
           "title": {
            "standoff": 15
           },
           "zerolinecolor": "white",
           "zerolinewidth": 2
          }
         }
        },
        "title": {
         "text": "LLM Reasoning Framework Analysis Dashboard"
        },
        "xaxis": {
         "anchor": "y",
         "domain": [
          0,
          0.2888888888888889
         ]
        },
        "xaxis2": {
         "anchor": "y2",
         "domain": [
          0.35555555555555557,
          0.6444444444444445
         ]
        },
        "xaxis3": {
         "anchor": "y3",
         "domain": [
          0.7111111111111111,
          1
         ]
        },
        "xaxis4": {
         "anchor": "y4",
         "domain": [
          0,
          0.2888888888888889
         ]
        },
        "xaxis5": {
         "anchor": "y5",
         "domain": [
          0.35555555555555557,
          0.6444444444444445
         ]
        },
        "xaxis6": {
         "anchor": "y6",
         "domain": [
          0.7111111111111111,
          1
         ]
        },
        "xaxis7": {
         "anchor": "y7",
         "domain": [
          0,
          0.2888888888888889
         ]
        },
        "xaxis8": {
         "anchor": "y8",
         "domain": [
          0.35555555555555557,
          0.6444444444444445
         ]
        },
        "yaxis": {
         "anchor": "x",
         "domain": [
          0.7777777777777778,
          1
         ]
        },
        "yaxis2": {
         "anchor": "x2",
         "domain": [
          0.7777777777777778,
          1
         ]
        },
        "yaxis3": {
         "anchor": "x3",
         "domain": [
          0.7777777777777778,
          1
         ]
        },
        "yaxis4": {
         "anchor": "x4",
         "domain": [
          0.3888888888888889,
          0.6111111111111112
         ]
        },
        "yaxis5": {
         "anchor": "x5",
         "domain": [
          0.3888888888888889,
          0.6111111111111112
         ]
        },
        "yaxis6": {
         "anchor": "x6",
         "domain": [
          0.3888888888888889,
          0.6111111111111112
         ]
        },
        "yaxis7": {
         "anchor": "x7",
         "domain": [
          0,
          0.22222222222222224
         ]
        },
        "yaxis8": {
         "anchor": "x8",
         "domain": [
          0,
          0.22222222222222224
         ]
        }
       }
      }
     },
     "metadata": {},
     "output_type": "display_data"
    },
    {
     "name": "stdout",
     "output_type": "stream",
     "text": [
      "\n",
      "🎯 FINAL RECOMMENDATIONS\n",
      "==============================\n",
      "🏆 Best Overall Performance: TOT\n",
      "⚡ Fastest Framework: COT\n",
      "💡 Most Token Efficient: COT\n",
      "📊 Most Consistent: COT\n"
     ]
    }
   ],
   "source": [
    "# Visualizations with custom color scheme\n",
    "fig, axes = plt.subplots(2, 2, figsize=(12, 10))\n",
    "fig.suptitle('LLM Reasoning Framework Comparison', fontsize=16)\n",
    "\n",
    "# Get framework order and colors\n",
    "framework_order = ['react', 'cot', 'tot']\n",
    "colors = [FRAMEWORK_COLORS[fw] for fw in framework_order if fw in df['framework'].unique()]\n",
    "\n",
    "# Score comparison with custom colors\n",
    "sns.boxplot(data=df, x='framework', y='score', ax=axes[0,0], \n",
    "           order=framework_order, palette=colors)\n",
    "axes[0,0].set_title('Validation Scores by Framework')\n",
    "axes[0,0].set_ylabel('Score (0-100)')\n",
    "\n",
    "# Time comparison with custom colors\n",
    "sns.barplot(data=df, x='framework', y='time', ax=axes[0,1], \n",
    "           order=framework_order, palette=colors)\n",
    "axes[0,1].set_title('Execution Time by Framework')\n",
    "axes[0,1].set_ylabel('Time (seconds)')\n",
    "\n",
    "# Task type performance heatmap\n",
    "score_pivot = df.pivot_table(values='score', index='framework', columns='task_type', aggfunc='mean')\n",
    "# Reorder index to match framework order\n",
    "score_pivot = score_pivot.reindex(framework_order)\n",
    "sns.heatmap(score_pivot, annot=True, cmap='RdYlGn', ax=axes[1,0], cbar_kws={'label': 'Score'})\n",
    "axes[1,0].set_title('Average Score by Framework & Task')\n",
    "\n",
    "# Token usage scatter with custom colors\n",
    "for framework in framework_order:\n",
    "    if framework in df['framework'].unique():\n",
    "        subset = df[df['framework'] == framework]\n",
    "        axes[1,1].scatter(subset['tokens'], subset['score'], \n",
    "                         label=framework, alpha=0.7, s=subset['time']*10,\n",
    "                         color=FRAMEWORK_COLORS[framework])\n",
    "\n",
    "axes[1,1].set_title('Score vs Token Usage (bubble size = time)')\n",
    "axes[1,1].set_xlabel('Tokens Used')\n",
    "axes[1,1].set_ylabel('Score')\n",
    "axes[1,1].legend()\n",
    "axes[1,1].grid(True, alpha=0.3)\n",
    "\n",
    "plt.tight_layout()\n",
    "plt.show()\n",
    "\n",
    "# Statistical Summary with Enhanced Analysis\n",
    "print(\"📊 COMPREHENSIVE FRAMEWORK ANALYSIS\")\n",
    "print(\"=\" * 60)\n",
    "\n",
    "# Overall performance ranking\n",
    "overall_ranking = df.groupby('framework')['score'].mean().sort_values(ascending=False)\n",
    "print(f\"\\n🏆 OVERALL PERFORMANCE RANKING:\")\n",
    "for i, (framework, score) in enumerate(overall_ranking.items(), 1):\n",
    "    medal = \"🥇\" if i == 1 else \"🥈\" if i == 2 else \"🥉\"\n",
    "    print(f\"   {medal} {i}. {framework.upper()}: {score:.1f}/100\")\n",
    "\n",
    "# Best framework per task\n",
    "print(f\"\\n🎯 TASK-SPECIFIC WINNERS:\")\n",
    "for task_type in df['task_type'].unique():\n",
    "    task_data = df[df['task_type'] == task_type]\n",
    "    best_fw = task_data.loc[task_data['score'].idxmax(), 'framework']\n",
    "    best_score = task_data['score'].max()\n",
    "    print(f\"   📝 {task_type.replace('_', ' ').title()}: {best_fw.upper()} ({best_score:.1f})\")\n",
    "\n",
    "# Efficiency analysis (score per second and score per token)\n",
    "efficiency = df.groupby('framework').apply(\n",
    "    lambda x: pd.Series({\n",
    "        'score_per_second': x['score'].mean() / x['time'].mean(),\n",
    "        'score_per_token': x['score'].mean() / x['tokens'].mean() * 1000,  # per 1000 tokens\n",
    "        'consistency': 1 - (x['score'].std() / x['score'].mean())  # inverse of coefficient of variation\n",
    "    })\n",
    ").round(3)\n",
    "\n",
    "print(f\"\\n⚡ EFFICIENCY METRICS:\")\n",
    "print(f\"   Most Efficient (Score/Time): {efficiency['score_per_second'].idxmax().upper()}\")\n",
    "print(f\"   Most Token-Efficient: {efficiency['score_per_token'].idxmax().upper()}\")\n",
    "print(f\"   Most Consistent: {efficiency['consistency'].idxmax().upper()}\")\n",
    "\n",
    "# Success rate analysis\n",
    "success_rates = df.groupby('framework')['success'].mean()\n",
    "print(f\"\\n✅ SUCCESS RATES:\")\n",
    "for framework, rate in success_rates.items():\n",
    "    print(f\"   {framework.upper()}: {rate:.1%}\")\n",
    "    \n",
    "most_reliable = success_rates.idxmax()\n",
    "print(f\"\\n🛡️ Most Reliable Framework: {most_reliable.upper()} ({success_rates[most_reliable]:.1%} success)\")\n",
    "\n",
    "# Comprehensive metrics summary\n",
    "metrics_summary = df.groupby('framework').agg({\n",
    "    'score': ['mean', 'std'],\n",
    "    'time': 'mean',\n",
    "    'tokens': 'mean', \n",
    "    'success': 'mean'\n",
    "}).round(2)\n",
    "\n",
    "metrics_summary.columns = ['Avg Score', 'Score StdDev', 'Avg Time (s)', 'Avg Tokens', 'Success Rate']\n",
    "print(f\"\\n📈 DETAILED METRICS SUMMARY:\")\n",
    "display(metrics_summary)"
   ]
  },
  {
   "cell_type": "markdown",
   "id": "94f1b8e9",
   "metadata": {},
   "source": [
    "## 🔬 Advanced Analysis & Research Insights\n",
    "\n",
    "Deep dive into reasoning patterns and framework characteristics."
   ]
  },
  {
   "cell_type": "code",
   "execution_count": 11,
   "id": "400a3032",
   "metadata": {},
   "outputs": [
    {
     "name": "stdout",
     "output_type": "stream",
     "text": [
      "🔍 DETAILED RESPONSE ANALYSIS\n",
      "============================================================\n",
      "\n",
      "📋 Task: Code Generation\n",
      "----------------------------------------\n",
      "\n",
      "🧠 REACT (Score: 83/100)\n",
      "Response: Mock REACT solution for code_generation (code_001) (Run 3): This is a comprehensive response demonstrating the framework's approach...\n",
      "Reasoning Steps: 5\n",
      "  1. Step 1: react reasoning step...\n",
      "  2. Step 2: react reasoning step...\n",
      "\n",
      "🧠 COT (Score: 78/100)\n",
      "Response: Mock COT solution for code_generation (code_001) (Run 3): This is a comprehensive response demonstrating the framework's approach...\n",
      "Reasoning Steps: 5\n",
      "  1. Step 1: cot reasoning step...\n",
      "  2. Step 2: cot reasoning step...\n",
      "\n",
      "🧠 TOT (Score: 88/100)\n",
      "Response: Mock TOT solution for code_generation (code_001) (Run 3): This is a comprehensive response demonstrating the framework's approach...\n",
      "Reasoning Steps: 5\n",
      "  1. Step 1: tot reasoning step...\n",
      "  2. Step 2: tot reasoning step...\n",
      "\n",
      "============================================================\n",
      "\n",
      "📋 Task: Itinerary Planning\n",
      "----------------------------------------\n",
      "\n",
      "🧠 REACT (Score: 86/100)\n",
      "Response: Mock REACT solution for itinerary_planning (itin_001) (Run 3): This is a comprehensive response demonstrating the framework's approach...\n",
      "Reasoning Steps: 5\n",
      "  1. Step 1: react reasoning step...\n",
      "  2. Step 2: react reasoning step...\n",
      "\n",
      "🧠 COT (Score: 81/100)\n",
      "Response: Mock COT solution for itinerary_planning (itin_001) (Run 3): This is a comprehensive response demonstrating the framework's approach...\n",
      "Reasoning Steps: 5\n",
      "  1. Step 1: cot reasoning step...\n",
      "  2. Step 2: cot reasoning step...\n",
      "\n",
      "🧠 TOT (Score: 91/100)\n",
      "Response: Mock TOT solution for itinerary_planning (itin_001) (Run 3): This is a comprehensive response demonstrating the framework's approach...\n",
      "Reasoning Steps: 5\n",
      "  1. Step 1: tot reasoning step...\n",
      "  2. Step 2: tot reasoning step...\n",
      "\n",
      "============================================================\n",
      "\n",
      "📋 Task: Procedure Structuring\n",
      "----------------------------------------\n",
      "\n",
      "🧠 REACT (Score: 84/100)\n",
      "Response: Mock REACT solution for procedure_structuring (proc_001) (Run 3): This is a comprehensive response demonstrating the framework's approach...\n",
      "Reasoning Steps: 5\n",
      "  1. Step 1: react reasoning step...\n",
      "  2. Step 2: react reasoning step...\n",
      "\n",
      "🧠 COT (Score: 79/100)\n",
      "Response: Mock COT solution for procedure_structuring (proc_001) (Run 3): This is a comprehensive response demonstrating the framework's approach...\n",
      "Reasoning Steps: 5\n",
      "  1. Step 1: cot reasoning step...\n",
      "  2. Step 2: cot reasoning step...\n",
      "\n",
      "🧠 TOT (Score: 89/100)\n",
      "Response: Mock TOT solution for procedure_structuring (proc_001) (Run 3): This is a comprehensive response demonstrating the framework's approach...\n",
      "Reasoning Steps: 5\n",
      "  1. Step 1: tot reasoning step...\n",
      "  2. Step 2: tot reasoning step...\n",
      "\n",
      "============================================================\n",
      "🔬 STATISTICAL SIGNIFICANCE TESTING\n",
      "========================================\n",
      "📊 PAIRWISE COMPARISON (Validation Scores)\n",
      "---------------------------------------------\n",
      "REACT vs COT:\n",
      "   Mean diff: 5.00\n",
      "   p-value: 0.0002 ***\n",
      "   Effect size: 2.294 (large)\n",
      "\n",
      "REACT vs TOT:\n",
      "   Mean diff: -5.00\n",
      "   p-value: 0.0002 ***\n",
      "   Effect size: 2.294 (large)\n",
      "\n",
      "COT vs TOT:\n",
      "   Mean diff: -10.00\n",
      "   p-value: 0.0000 ***\n",
      "   Effect size: 4.588 (large)\n",
      "\n",
      "🔍 OVERALL ANOVA TEST\n",
      "   F-statistic: 47.368\n",
      "   p-value: 0.0000\n",
      "   Significant difference: Yes\n",
      "\n",
      "📝 TASK-SPECIFIC STATISTICAL ANALYSIS\n",
      "----------------------------------------\n",
      "Code Generation:\n",
      "   F-stat: 18.750, p-value: 0.0026\n",
      "   Best: TOT (86.0 points)\n",
      "\n",
      "Itinerary Planning:\n",
      "   F-stat: 18.750, p-value: 0.0026\n",
      "   Best: TOT (89.0 points)\n",
      "\n",
      "Procedure Structuring:\n",
      "   F-stat: 18.750, p-value: 0.0026\n",
      "   Best: TOT (87.0 points)\n",
      "\n"
     ]
    }
   ],
   "source": [
    "# Show detailed responses for each framework on each task\n",
    "print(\"🔍 DETAILED RESPONSE ANALYSIS\")\n",
    "print(\"=\" * 60)\n",
    "\n",
    "for task_type in df['task_type'].unique():\n",
    "    print(f\"\\n📋 Task: {task_type.replace('_', ' ').title()}\")\n",
    "    print(\"-\" * 40)\n",
    "    \n",
    "    task_results = [r for r in experiment_results if r.task_type == task_type]\n",
    "    \n",
    "    # Show best run for each framework\n",
    "    for framework in frameworks:\n",
    "        framework_results = [r for r in task_results if r.framework == framework]\n",
    "        best_result = max(framework_results, key=lambda x: x.validation_score)\n",
    "        \n",
    "        print(f\"\\n🧠 {framework.upper()} (Score: {best_result.validation_score:.0f}/100)\")\n",
    "        \n",
    "        # Show response preview\n",
    "        response_preview = best_result.final_answer[:200] + \"...\" if len(best_result.final_answer) > 200 else best_result.final_answer\n",
    "        print(f\"Response: {response_preview}\")\n",
    "        \n",
    "        # Show reasoning steps\n",
    "        if best_result.intermediate_steps:\n",
    "            print(f\"Reasoning Steps: {len(best_result.intermediate_steps)}\")\n",
    "            for i, step in enumerate(best_result.intermediate_steps[:2]):  # Show first 2 steps\n",
    "                print(f\"  {i+1}. {step[:80]}...\")\n",
    "        \n",
    "        # Show any issues\n",
    "        if best_result.validation_issues:\n",
    "            print(f\"Issues: {', '.join(best_result.validation_issues)}\")\n",
    "    \n",
    "    print(\"\\n\" + \"=\" * 60)\n",
    "\n",
    "# Advanced Statistical Analysis\n",
    "if df is not None:\n",
    "    from scipy import stats\n",
    "    import itertools\n",
    "    \n",
    "    print(\"🔬 STATISTICAL SIGNIFICANCE TESTING\")\n",
    "    print(\"=\" * 40)\n",
    "    \n",
    "    # Perform pairwise t-tests between frameworks\n",
    "    frameworks = df['framework'].unique()\n",
    "    framework_pairs = list(itertools.combinations(frameworks, 2))\n",
    "    \n",
    "    print(\"📊 PAIRWISE COMPARISON (Validation Scores)\")\n",
    "    print(\"-\" * 45)\n",
    "    \n",
    "    for fw1, fw2 in framework_pairs:\n",
    "        scores1 = df[df['framework'] == fw1]['score']\n",
    "        scores2 = df[df['framework'] == fw2]['score']\n",
    "        \n",
    "        # Perform t-test\n",
    "        t_stat, p_value = stats.ttest_ind(scores1, scores2)\n",
    "        \n",
    "        # Effect size (Cohen's d)\n",
    "        pooled_std = np.sqrt(((len(scores1) - 1) * scores1.var() + (len(scores2) - 1) * scores2.var()) / \n",
    "                            (len(scores1) + len(scores2) - 2))\n",
    "        cohens_d = (scores1.mean() - scores2.mean()) / pooled_std\n",
    "        \n",
    "        significance = \"***\" if p_value < 0.001 else \"**\" if p_value < 0.01 else \"*\" if p_value < 0.05 else \"ns\"\n",
    "        \n",
    "        print(f\"{fw1.upper()} vs {fw2.upper()}:\")\n",
    "        print(f\"   Mean diff: {scores1.mean() - scores2.mean():.2f}\")\n",
    "        print(f\"   p-value: {p_value:.4f} {significance}\")\n",
    "        print(f\"   Effect size: {abs(cohens_d):.3f} ({'large' if abs(cohens_d) > 0.8 else 'medium' if abs(cohens_d) > 0.5 else 'small'})\")\n",
    "        print()\n",
    "    \n",
    "    # ANOVA for overall framework differences\n",
    "    framework_groups = [df[df['framework'] == fw]['score'] for fw in frameworks]\n",
    "    f_stat, p_value_anova = stats.f_oneway(*framework_groups)\n",
    "    \n",
    "    print(f\"🔍 OVERALL ANOVA TEST\")\n",
    "    print(f\"   F-statistic: {f_stat:.3f}\")\n",
    "    print(f\"   p-value: {p_value_anova:.4f}\")\n",
    "    print(f\"   Significant difference: {'Yes' if p_value_anova < 0.05 else 'No'}\")\n",
    "    \n",
    "    # Task-specific analysis\n",
    "    print(f\"\\n📝 TASK-SPECIFIC STATISTICAL ANALYSIS\")\n",
    "    print(\"-\" * 40)\n",
    "    \n",
    "    for task in df['task_type'].unique():\n",
    "        task_data = df[df['task_type'] == task]\n",
    "        task_groups = [task_data[task_data['framework'] == fw]['score'] for fw in frameworks]\n",
    "        \n",
    "        try:\n",
    "            f_stat_task, p_value_task = stats.f_oneway(*task_groups)\n",
    "            print(f\"{task.replace('_', ' ').title()}:\")\n",
    "            print(f\"   F-stat: {f_stat_task:.3f}, p-value: {p_value_task:.4f}\")\n",
    "            \n",
    "            # Find best performing framework for this task\n",
    "            best_fw = task_data.groupby('framework')['score'].mean().idxmax()\n",
    "            best_score = task_data.groupby('framework')['score'].mean().max()\n",
    "            print(f\"   Best: {best_fw.upper()} ({best_score:.1f} points)\")\n",
    "            print()\n",
    "        except:\n",
    "            print(f\"{task}: Insufficient data for analysis\")\n",
    "            \n",
    "else:\n",
    "    print(\"❌ No data available for statistical analysis\")"
   ]
  },
  {
   "cell_type": "markdown",
   "id": "f4d894e9",
   "metadata": {},
   "source": [
    "## 🎯 Key Insights & Conclusions\n",
    "\n",
    "Summary of the most important findings from the visualizations above."
   ]
  },
  {
   "cell_type": "code",
   "execution_count": 12,
   "id": "ff2b1b8a",
   "metadata": {},
   "outputs": [
    {
     "name": "stdout",
     "output_type": "stream",
     "text": [
      "💡 KEY INSIGHTS\n",
      "==================================================\n",
      "🏆 Best Overall Framework: TOT (avg score: 87.3)\n",
      "🎯 Most Challenging Task: Code Generation (avg score: 81.0)\n",
      "⚡ Most Efficient Framework: COT (score/time ratio: 36.8)\n",
      "📊 Most Consistent Framework: COT (std dev: 2.2)\n",
      "\n",
      "📈 PERFORMANCE MATRIX:\n",
      "task_type  code_generation  itinerary_planning  procedure_structuring\n",
      "framework                                                            \n",
      "cot                   76.0                79.0                   77.0\n",
      "react                 81.0                84.0                   82.0\n",
      "tot                   86.0                89.0                   87.0\n",
      "\n",
      "🔬 STATISTICAL SUMMARY:\n",
      "• Score range: 74.0 - 91.0\n",
      "• Time range: 1.8s - 3.8s\n",
      "• Token range: 650 - 1300\n",
      "• Overall success rate: 100.0%\n",
      "🎯 KEY INSIGHTS FROM ANALYSIS\n",
      "===================================\n"
     ]
    },
    {
     "ename": "KeyError",
     "evalue": "'Column not found: validation_score'",
     "output_type": "error",
     "traceback": [
      "\u001b[31m---------------------------------------------------------------------------\u001b[39m",
      "\u001b[31mKeyError\u001b[39m                                  Traceback (most recent call last)",
      "\u001b[36mCell\u001b[39m\u001b[36m \u001b[39m\u001b[32mIn[12]\u001b[39m\u001b[32m, line 41\u001b[39m\n\u001b[32m     38\u001b[39m \u001b[38;5;28mprint\u001b[39m(\u001b[33m\"\u001b[39m\u001b[33m=\u001b[39m\u001b[33m\"\u001b[39m * \u001b[32m35\u001b[39m)\n\u001b[32m     40\u001b[39m \u001b[38;5;66;03m# Best performing framework overall\u001b[39;00m\n\u001b[32m---> \u001b[39m\u001b[32m41\u001b[39m best_framework = \u001b[43mdf\u001b[49m\u001b[43m.\u001b[49m\u001b[43mgroupby\u001b[49m\u001b[43m(\u001b[49m\u001b[33;43m'\u001b[39;49m\u001b[33;43mframework\u001b[39;49m\u001b[33;43m'\u001b[39;49m\u001b[43m)\u001b[49m\u001b[43m[\u001b[49m\u001b[33;43m'\u001b[39;49m\u001b[33;43mvalidation_score\u001b[39;49m\u001b[33;43m'\u001b[39;49m\u001b[43m]\u001b[49m.mean().idxmax()\n\u001b[32m     42\u001b[39m best_score = df.groupby(\u001b[33m'\u001b[39m\u001b[33mframework\u001b[39m\u001b[33m'\u001b[39m)[\u001b[33m'\u001b[39m\u001b[33mvalidation_score\u001b[39m\u001b[33m'\u001b[39m].mean().max()\n\u001b[32m     44\u001b[39m \u001b[38;5;28mprint\u001b[39m(\u001b[33mf\u001b[39m\u001b[33m\"\u001b[39m\u001b[33m🏆 **Best Overall Framework:** \u001b[39m\u001b[38;5;132;01m{\u001b[39;00mbest_framework.upper()\u001b[38;5;132;01m}\u001b[39;00m\u001b[33m\"\u001b[39m)\n",
      "\u001b[36mFile \u001b[39m\u001b[32m~/projects/scientific-project-clement/.venv/lib/python3.12/site-packages/pandas/core/groupby/generic.py:1951\u001b[39m, in \u001b[36mDataFrameGroupBy.__getitem__\u001b[39m\u001b[34m(self, key)\u001b[39m\n\u001b[32m   1944\u001b[39m \u001b[38;5;28;01mif\u001b[39;00m \u001b[38;5;28misinstance\u001b[39m(key, \u001b[38;5;28mtuple\u001b[39m) \u001b[38;5;129;01mand\u001b[39;00m \u001b[38;5;28mlen\u001b[39m(key) > \u001b[32m1\u001b[39m:\n\u001b[32m   1945\u001b[39m     \u001b[38;5;66;03m# if len == 1, then it becomes a SeriesGroupBy and this is actually\u001b[39;00m\n\u001b[32m   1946\u001b[39m     \u001b[38;5;66;03m# valid syntax, so don't raise\u001b[39;00m\n\u001b[32m   1947\u001b[39m     \u001b[38;5;28;01mraise\u001b[39;00m \u001b[38;5;167;01mValueError\u001b[39;00m(\n\u001b[32m   1948\u001b[39m         \u001b[33m\"\u001b[39m\u001b[33mCannot subset columns with a tuple with more than one element. \u001b[39m\u001b[33m\"\u001b[39m\n\u001b[32m   1949\u001b[39m         \u001b[33m\"\u001b[39m\u001b[33mUse a list instead.\u001b[39m\u001b[33m\"\u001b[39m\n\u001b[32m   1950\u001b[39m     )\n\u001b[32m-> \u001b[39m\u001b[32m1951\u001b[39m \u001b[38;5;28;01mreturn\u001b[39;00m \u001b[38;5;28;43msuper\u001b[39;49m\u001b[43m(\u001b[49m\u001b[43m)\u001b[49m\u001b[43m.\u001b[49m\u001b[34;43m__getitem__\u001b[39;49m\u001b[43m(\u001b[49m\u001b[43mkey\u001b[49m\u001b[43m)\u001b[49m\n",
      "\u001b[36mFile \u001b[39m\u001b[32m~/projects/scientific-project-clement/.venv/lib/python3.12/site-packages/pandas/core/base.py:245\u001b[39m, in \u001b[36mSelectionMixin.__getitem__\u001b[39m\u001b[34m(self, key)\u001b[39m\n\u001b[32m    243\u001b[39m \u001b[38;5;28;01melse\u001b[39;00m:\n\u001b[32m    244\u001b[39m     \u001b[38;5;28;01mif\u001b[39;00m key \u001b[38;5;129;01mnot\u001b[39;00m \u001b[38;5;129;01min\u001b[39;00m \u001b[38;5;28mself\u001b[39m.obj:\n\u001b[32m--> \u001b[39m\u001b[32m245\u001b[39m         \u001b[38;5;28;01mraise\u001b[39;00m \u001b[38;5;167;01mKeyError\u001b[39;00m(\u001b[33mf\u001b[39m\u001b[33m\"\u001b[39m\u001b[33mColumn not found: \u001b[39m\u001b[38;5;132;01m{\u001b[39;00mkey\u001b[38;5;132;01m}\u001b[39;00m\u001b[33m\"\u001b[39m)\n\u001b[32m    246\u001b[39m     ndim = \u001b[38;5;28mself\u001b[39m.obj[key].ndim\n\u001b[32m    247\u001b[39m     \u001b[38;5;28;01mreturn\u001b[39;00m \u001b[38;5;28mself\u001b[39m._gotitem(key, ndim=ndim)\n",
      "\u001b[31mKeyError\u001b[39m: 'Column not found: validation_score'"
     ]
    }
   ],
   "source": [
    "# Generate insights\n",
    "print(\"💡 KEY INSIGHTS\")\n",
    "print(\"=\" * 50)\n",
    "\n",
    "# Best performing framework overall\n",
    "best_framework = df.groupby('framework')['score'].mean().idxmax()\n",
    "best_score = df.groupby('framework')['score'].mean().max()\n",
    "print(f\"🏆 Best Overall Framework: {best_framework.upper()} (avg score: {best_score:.1f})\")\n",
    "\n",
    "# Most challenging task\n",
    "hardest_task = df.groupby('task_type')['score'].mean().idxmin()\n",
    "hardest_score = df.groupby('task_type')['score'].mean().min()\n",
    "print(f\"🎯 Most Challenging Task: {hardest_task.replace('_', ' ').title()} (avg score: {hardest_score:.1f})\")\n",
    "\n",
    "# Efficiency analysis\n",
    "efficiency = df.groupby('framework').apply(lambda x: x['score'].mean() / x['time'].mean()).round(2)\n",
    "most_efficient = efficiency.idxmax()\n",
    "print(f\"⚡ Most Efficient Framework: {most_efficient.upper()} (score/time ratio: {efficiency.max():.1f})\")\n",
    "\n",
    "# Consistency analysis\n",
    "consistency = df.groupby('framework')['score'].std()\n",
    "most_consistent = consistency.idxmin()\n",
    "print(f\"📊 Most Consistent Framework: {most_consistent.upper()} (std dev: {consistency.min():.1f})\")\n",
    "\n",
    "print(\"\\n📈 PERFORMANCE MATRIX:\")\n",
    "performance_matrix = df.pivot_table(values='score', index='framework', columns='task_type', aggfunc='mean').round(1)\n",
    "print(performance_matrix)\n",
    "\n",
    "print(\"\\n🔬 STATISTICAL SUMMARY:\")\n",
    "print(f\"• Score range: {df['score'].min():.1f} - {df['score'].max():.1f}\")\n",
    "print(f\"• Time range: {df['time'].min():.1f}s - {df['time'].max():.1f}s\")\n",
    "print(f\"• Token range: {df['tokens'].min():.0f} - {df['tokens'].max():.0f}\")\n",
    "print(f\"• Overall success rate: {df['success'].mean():.1%}\")\n",
    "\n",
    "# Summary of Key Insights\n",
    "if df is not None:\n",
    "    print(\"🎯 KEY INSIGHTS FROM ANALYSIS\")\n",
    "    print(\"=\" * 35)\n",
    "    \n",
    "    # Best performing framework overall\n",
    "    best_framework = df.groupby('framework')['validation_score'].mean().idxmax()\n",
    "    best_score = df.groupby('framework')['validation_score'].mean().max()\n",
    "    \n",
    "    print(f\"🏆 **Best Overall Framework:** {best_framework.upper()}\")\n",
    "    print(f\"   Average Score: {best_score:.1f}/100\")\n",
    "    print(f\"   Success Rate: {df[df['framework'] == best_framework]['validation_passed'].mean():.1%}\")\n",
    "    \n",
    "    # Task-specific winners\n",
    "    print(f\"\\n📝 **Task-Specific Winners:**\")\n",
    "    for task_type in df['task_type'].unique():\n",
    "        task_data = df[df['task_type'] == task_type]\n",
    "        winner = task_data.groupby('framework')['validation_score'].mean().idxmax()\n",
    "        score = task_data.groupby('framework')['validation_score'].mean().max()\n",
    "        print(f\"   • {task_type.replace('_', ' ').title()}: {winner.upper()} ({score:.1f}/100)\")\n",
    "    \n",
    "    # Performance characteristics\n",
    "    print(f\"\\n⚡ **Performance Characteristics:**\")\n",
    "    fastest = df.groupby('framework')['execution_time'].mean().idxmin()\n",
    "    most_efficient = df.groupby('framework')['tokens_used'].mean().idxmin()\n",
    "    \n",
    "    print(f\"   • Fastest: {fastest.upper()} ({df.groupby('framework')['execution_time'].mean().min():.2f}s avg)\")\n",
    "    print(f\"   • Most Token Efficient: {most_efficient.upper()} ({df.groupby('framework')['tokens_used'].mean().min():.0f} tokens avg)\")\n",
    "    \n",
    "    # Overall statistics\n",
    "    print(f\"\\n📊 **Overall Statistics:**\")\n",
    "    print(f\"   • Total Experiments: {len(df)}\")\n",
    "    print(f\"   • Average Success Rate: {df['validation_passed'].mean():.1%}\")\n",
    "    print(f\"   • Average Quality Score: {df['validation_score'].mean():.1f}/100\")\n",
    "    print(f\"   • Score Range: {df['validation_score'].min():.1f} - {df['validation_score'].max():.1f}\")\n",
    "    \n",
    "    print(f\"\\n💡 **Recommendations:**\")\n",
    "    print(f\"   • For highest quality: Use {best_framework.upper()}\")\n",
    "    print(f\"   • For speed: Use {fastest.upper()}\")\n",
    "    print(f\"   • For efficiency: Use {most_efficient.upper()}\")\n",
    "    \n",
    "else:\n",
    "    print(\"❌ No data available for insights\")\n",
    "    print(\"💡 Run the data loading cells first!\")\n",
    "\n",
    "print(f\"\\n\" + \"=\"*50)\n",
    "print(\"🎉 VISUALIZATION ANALYSIS COMPLETE!\")\n",
    "print(\"📊 Review the charts and graphs above for detailed insights\")\n",
    "print(\"=\"*50)"
   ]
  }
 ],
 "metadata": {
  "kernelspec": {
   "display_name": ".venv",
   "language": "python",
   "name": "python3"
  },
  "language_info": {
   "codemirror_mode": {
    "name": "ipython",
    "version": 3
   },
   "file_extension": ".py",
   "mimetype": "text/x-python",
   "name": "python",
   "nbconvert_exporter": "python",
   "pygments_lexer": "ipython3",
   "version": "3.12.3"
  }
 },
 "nbformat": 4,
 "nbformat_minor": 5
}
